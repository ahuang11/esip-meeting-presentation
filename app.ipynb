{
 "cells": [
  {
   "cell_type": "code",
   "execution_count": 1,
   "metadata": {},
   "outputs": [
    {
     "data": {
      "application/javascript": "(function(root) {\n  function now() {\n    return new Date();\n  }\n\n  var force = true;\n  var py_version = '3.1.1'.replace('rc', '-rc.').replace('.dev', '-dev.');\n  var is_dev = py_version.indexOf(\"+\") !== -1 || py_version.indexOf(\"-\") !== -1;\n  var reloading = false;\n  var Bokeh = root.Bokeh;\n  var bokeh_loaded = Bokeh != null && (Bokeh.version === py_version || (Bokeh.versions !== undefined && Bokeh.versions.has(py_version)));\n\n  if (typeof (root._bokeh_timeout) === \"undefined\" || force) {\n    root._bokeh_timeout = Date.now() + 5000;\n    root._bokeh_failed_load = false;\n  }\n\n  function run_callbacks() {\n    try {\n      root._bokeh_onload_callbacks.forEach(function(callback) {\n        if (callback != null)\n          callback();\n      });\n    } finally {\n      delete root._bokeh_onload_callbacks;\n    }\n    console.debug(\"Bokeh: all callbacks have finished\");\n  }\n\n  function load_libs(css_urls, js_urls, js_modules, js_exports, callback) {\n    if (css_urls == null) css_urls = [];\n    if (js_urls == null) js_urls = [];\n    if (js_modules == null) js_modules = [];\n    if (js_exports == null) js_exports = {};\n\n    root._bokeh_onload_callbacks.push(callback);\n\n    if (root._bokeh_is_loading > 0) {\n      console.debug(\"Bokeh: BokehJS is being loaded, scheduling callback at\", now());\n      return null;\n    }\n    if (js_urls.length === 0 && js_modules.length === 0 && Object.keys(js_exports).length === 0) {\n      run_callbacks();\n      return null;\n    }\n    if (!reloading) {\n      console.debug(\"Bokeh: BokehJS not loaded, scheduling load and callback at\", now());\n    }\n\n    function on_load() {\n      root._bokeh_is_loading--;\n      if (root._bokeh_is_loading === 0) {\n        console.debug(\"Bokeh: all BokehJS libraries/stylesheets loaded\");\n        run_callbacks()\n      }\n    }\n    window._bokeh_on_load = on_load\n\n    function on_error() {\n      console.error(\"failed to load \" + url);\n    }\n\n    var skip = [];\n    if (window.requirejs) {\n      window.requirejs.config({'packages': {}, 'paths': {'jspanel': 'https://cdn.jsdelivr.net/npm/jspanel4@4.12.0/dist/jspanel', 'jspanel-modal': 'https://cdn.jsdelivr.net/npm/jspanel4@4.12.0/dist/extensions/modal/jspanel.modal', 'jspanel-tooltip': 'https://cdn.jsdelivr.net/npm/jspanel4@4.12.0/dist/extensions/tooltip/jspanel.tooltip', 'jspanel-hint': 'https://cdn.jsdelivr.net/npm/jspanel4@4.12.0/dist/extensions/hint/jspanel.hint', 'jspanel-layout': 'https://cdn.jsdelivr.net/npm/jspanel4@4.12.0/dist/extensions/layout/jspanel.layout', 'jspanel-contextmenu': 'https://cdn.jsdelivr.net/npm/jspanel4@4.12.0/dist/extensions/contextmenu/jspanel.contextmenu', 'jspanel-dock': 'https://cdn.jsdelivr.net/npm/jspanel4@4.12.0/dist/extensions/dock/jspanel.dock', 'gridstack': 'https://cdn.jsdelivr.net/npm/gridstack@7.2.3/dist/gridstack-all', 'notyf': 'https://cdn.jsdelivr.net/npm/notyf@3/notyf.min'}, 'shim': {'jspanel': {'exports': 'jsPanel'}, 'gridstack': {'exports': 'GridStack'}}});\n      require([\"jspanel\"], function(jsPanel) {\n\twindow.jsPanel = jsPanel\n\ton_load()\n      })\n      require([\"jspanel-modal\"], function() {\n\ton_load()\n      })\n      require([\"jspanel-tooltip\"], function() {\n\ton_load()\n      })\n      require([\"jspanel-hint\"], function() {\n\ton_load()\n      })\n      require([\"jspanel-layout\"], function() {\n\ton_load()\n      })\n      require([\"jspanel-contextmenu\"], function() {\n\ton_load()\n      })\n      require([\"jspanel-dock\"], function() {\n\ton_load()\n      })\n      require([\"gridstack\"], function(GridStack) {\n\twindow.GridStack = GridStack\n\ton_load()\n      })\n      require([\"notyf\"], function() {\n\ton_load()\n      })\n      root._bokeh_is_loading = css_urls.length + 9;\n    } else {\n      root._bokeh_is_loading = css_urls.length + js_urls.length + js_modules.length + Object.keys(js_exports).length;\n    }\n\n    var existing_stylesheets = []\n    var links = document.getElementsByTagName('link')\n    for (var i = 0; i < links.length; i++) {\n      var link = links[i]\n      if (link.href != null) {\n\texisting_stylesheets.push(link.href)\n      }\n    }\n    for (var i = 0; i < css_urls.length; i++) {\n      var url = css_urls[i];\n      if (existing_stylesheets.indexOf(url) !== -1) {\n\ton_load()\n\tcontinue;\n      }\n      const element = document.createElement(\"link\");\n      element.onload = on_load;\n      element.onerror = on_error;\n      element.rel = \"stylesheet\";\n      element.type = \"text/css\";\n      element.href = url;\n      console.debug(\"Bokeh: injecting link tag for BokehJS stylesheet: \", url);\n      document.body.appendChild(element);\n    }    if (((window['jsPanel'] !== undefined) && (!(window['jsPanel'] instanceof HTMLElement))) || window.requirejs) {\n      var urls = ['https://cdn.holoviz.org/panel/1.1.1/dist/bundled/floatpanel/jspanel4@4.12.0/dist/jspanel.js', 'https://cdn.holoviz.org/panel/1.1.1/dist/bundled/floatpanel/jspanel4@4.12.0/dist/extensions/modal/jspanel.modal.js', 'https://cdn.holoviz.org/panel/1.1.1/dist/bundled/floatpanel/jspanel4@4.12.0/dist/extensions/tooltip/jspanel.tooltip.js', 'https://cdn.holoviz.org/panel/1.1.1/dist/bundled/floatpanel/jspanel4@4.12.0/dist/extensions/hint/jspanel.hint.js', 'https://cdn.holoviz.org/panel/1.1.1/dist/bundled/floatpanel/jspanel4@4.12.0/dist/extensions/layout/jspanel.layout.js', 'https://cdn.holoviz.org/panel/1.1.1/dist/bundled/floatpanel/jspanel4@4.12.0/dist/extensions/contextmenu/jspanel.contextmenu.js', 'https://cdn.holoviz.org/panel/1.1.1/dist/bundled/floatpanel/jspanel4@4.12.0/dist/extensions/dock/jspanel.dock.js'];\n      for (var i = 0; i < urls.length; i++) {\n        skip.push(urls[i])\n      }\n    }    if (((window['GridStack'] !== undefined) && (!(window['GridStack'] instanceof HTMLElement))) || window.requirejs) {\n      var urls = ['https://cdn.holoviz.org/panel/1.1.1/dist/bundled/gridstack/gridstack@7.2.3/dist/gridstack-all.js'];\n      for (var i = 0; i < urls.length; i++) {\n        skip.push(urls[i])\n      }\n    }    if (((window['Notyf'] !== undefined) && (!(window['Notyf'] instanceof HTMLElement))) || window.requirejs) {\n      var urls = ['https://cdn.holoviz.org/panel/1.1.1/dist/bundled/notificationarea/notyf@3/notyf.min.js'];\n      for (var i = 0; i < urls.length; i++) {\n        skip.push(urls[i])\n      }\n    }    var existing_scripts = []\n    var scripts = document.getElementsByTagName('script')\n    for (var i = 0; i < scripts.length; i++) {\n      var script = scripts[i]\n      if (script.src != null) {\n\texisting_scripts.push(script.src)\n      }\n    }\n    for (var i = 0; i < js_urls.length; i++) {\n      var url = js_urls[i];\n      if (skip.indexOf(url) !== -1 || existing_scripts.indexOf(url) !== -1) {\n\tif (!window.requirejs) {\n\t  on_load();\n\t}\n\tcontinue;\n      }\n      var element = document.createElement('script');\n      element.onload = on_load;\n      element.onerror = on_error;\n      element.async = false;\n      element.src = url;\n      console.debug(\"Bokeh: injecting script tag for BokehJS library: \", url);\n      document.head.appendChild(element);\n    }\n    for (var i = 0; i < js_modules.length; i++) {\n      var url = js_modules[i];\n      if (skip.indexOf(url) !== -1 || existing_scripts.indexOf(url) !== -1) {\n\tif (!window.requirejs) {\n\t  on_load();\n\t}\n\tcontinue;\n      }\n      var element = document.createElement('script');\n      element.onload = on_load;\n      element.onerror = on_error;\n      element.async = false;\n      element.src = url;\n      element.type = \"module\";\n      console.debug(\"Bokeh: injecting script tag for BokehJS library: \", url);\n      document.head.appendChild(element);\n    }\n    for (const name in js_exports) {\n      var url = js_exports[name];\n      if (skip.indexOf(url) >= 0 || root[name] != null) {\n\tif (!window.requirejs) {\n\t  on_load();\n\t}\n\tcontinue;\n      }\n      var element = document.createElement('script');\n      element.onerror = on_error;\n      element.async = false;\n      element.type = \"module\";\n      console.debug(\"Bokeh: injecting script tag for BokehJS library: \", url);\n      element.textContent = `\n      import ${name} from \"${url}\"\n      window.${name} = ${name}\n      window._bokeh_on_load()\n      `\n      document.head.appendChild(element);\n    }\n    if (!js_urls.length && !js_modules.length) {\n      on_load()\n    }\n  };\n\n  function inject_raw_css(css) {\n    const element = document.createElement(\"style\");\n    element.appendChild(document.createTextNode(css));\n    document.body.appendChild(element);\n  }\n\n  var js_urls = [\"https://cdn.bokeh.org/bokeh/release/bokeh-3.1.1.min.js\", \"https://cdn.bokeh.org/bokeh/release/bokeh-gl-3.1.1.min.js\", \"https://cdn.bokeh.org/bokeh/release/bokeh-widgets-3.1.1.min.js\", \"https://cdn.bokeh.org/bokeh/release/bokeh-tables-3.1.1.min.js\", \"https://cdn.holoviz.org/panel/1.1.1/dist/panel.min.js\"];\n  var js_modules = [];\n  var js_exports = {};\n  var css_urls = [\"https://fonts.googleapis.com/css?family=Inter\"];\n  var inline_js = [    function(Bokeh) {\n      inject_raw_css(\"html, body { font-family: \\\"Inter\\\",sans-serif; }\");\n    },    function(Bokeh) {\n      inject_raw_css(\":root {--r-background-color: rgb(16, 39, 47) }\");\n    },    function(Bokeh) {\n      inject_raw_css(\"h1 { text-align: left; font-size: 3em; }\");\n    },    function(Bokeh) {\n      inject_raw_css(\"h2 { text-align: left; font-size: 3em; }\");\n    },    function(Bokeh) {\n      inject_raw_css(\"li { text-align: left; font-size: 2em; }\");\n    },    function(Bokeh) {\n      inject_raw_css(\"pre { text-align: left; }\");\n    },    function(Bokeh) {\n      Bokeh.set_log_level(\"info\");\n    },\nfunction(Bokeh) {} // ensure no trailing comma for IE\n  ];\n\n  function run_inline_js() {\n    if ((root.Bokeh !== undefined) || (force === true)) {\n      for (var i = 0; i < inline_js.length; i++) {\n        inline_js[i].call(root, root.Bokeh);\n      }\n      // Cache old bokeh versions\n      if (Bokeh != undefined && !reloading) {\n\tvar NewBokeh = root.Bokeh;\n\tif (Bokeh.versions === undefined) {\n\t  Bokeh.versions = new Map();\n\t}\n\tif (NewBokeh.version !== Bokeh.version) {\n\t  Bokeh.versions.set(NewBokeh.version, NewBokeh)\n\t}\n\troot.Bokeh = Bokeh;\n      }} else if (Date.now() < root._bokeh_timeout) {\n      setTimeout(run_inline_js, 100);\n    } else if (!root._bokeh_failed_load) {\n      console.log(\"Bokeh: BokehJS failed to load within specified timeout.\");\n      root._bokeh_failed_load = true;\n    }\n    root._bokeh_is_initializing = false\n  }\n\n  function load_or_wait() {\n    // Implement a backoff loop that tries to ensure we do not load multiple\n    // versions of Bokeh and its dependencies at the same time.\n    // In recent versions we use the root._bokeh_is_initializing flag\n    // to determine whether there is an ongoing attempt to initialize\n    // bokeh, however for backward compatibility we also try to ensure\n    // that we do not start loading a newer (Panel>=1.0 and Bokeh>3) version\n    // before older versions are fully initialized.\n    if (root._bokeh_is_initializing && Date.now() > root._bokeh_timeout) {\n      root._bokeh_is_initializing = false;\n      root._bokeh_onload_callbacks = undefined;\n      console.log(\"Bokeh: BokehJS was loaded multiple times but one version failed to initialize.\");\n      load_or_wait();\n    } else if (root._bokeh_is_initializing || (typeof root._bokeh_is_initializing === \"undefined\" && root._bokeh_onload_callbacks !== undefined)) {\n      setTimeout(load_or_wait, 100);\n    } else {\n      Bokeh = root.Bokeh;\n      bokeh_loaded = Bokeh != null && (Bokeh.version === py_version || (Bokeh.versions !== undefined && Bokeh.versions.has(py_version)));\n      root._bokeh_is_initializing = true\n      root._bokeh_onload_callbacks = []\n      if (!reloading && (!bokeh_loaded || is_dev)) {\n\troot.Bokeh = undefined;\n      }\n      load_libs(css_urls, js_urls, js_modules, js_exports, function() {\n\tconsole.debug(\"Bokeh: BokehJS plotting callback run at\", now());\n\trun_inline_js();\n      });\n    }\n  }\n  // Give older versions of the autoload script a head-start to ensure\n  // they initialize before we start loading newer version.\n  setTimeout(load_or_wait, 100)\n}(window));",
      "application/vnd.holoviews_load.v0+json": ""
     },
     "metadata": {},
     "output_type": "display_data"
    },
    {
     "data": {
      "application/javascript": "\nif ((window.PyViz === undefined) || (window.PyViz instanceof HTMLElement)) {\n  window.PyViz = {comms: {}, comm_status:{}, kernels:{}, receivers: {}, plot_index: []}\n}\n\n\n    function JupyterCommManager() {\n    }\n\n    JupyterCommManager.prototype.register_target = function(plot_id, comm_id, msg_handler) {\n      if (window.comm_manager || ((window.Jupyter !== undefined) && (Jupyter.notebook.kernel != null))) {\n        var comm_manager = window.comm_manager || Jupyter.notebook.kernel.comm_manager;\n        comm_manager.register_target(comm_id, function(comm) {\n          comm.on_msg(msg_handler);\n        });\n      } else if ((plot_id in window.PyViz.kernels) && (window.PyViz.kernels[plot_id])) {\n        window.PyViz.kernels[plot_id].registerCommTarget(comm_id, function(comm) {\n          comm.onMsg = msg_handler;\n        });\n      } else if (typeof google != 'undefined' && google.colab.kernel != null) {\n        google.colab.kernel.comms.registerTarget(comm_id, (comm) => {\n          var messages = comm.messages[Symbol.asyncIterator]();\n          function processIteratorResult(result) {\n            var message = result.value;\n            console.log(message)\n            var content = {data: message.data, comm_id};\n            var buffers = []\n            for (var buffer of message.buffers || []) {\n              buffers.push(new DataView(buffer))\n            }\n            var metadata = message.metadata || {};\n            var msg = {content, buffers, metadata}\n            msg_handler(msg);\n            return messages.next().then(processIteratorResult);\n          }\n          return messages.next().then(processIteratorResult);\n        })\n      }\n    }\n\n    JupyterCommManager.prototype.get_client_comm = function(plot_id, comm_id, msg_handler) {\n      if (comm_id in window.PyViz.comms) {\n        return window.PyViz.comms[comm_id];\n      } else if (window.comm_manager || ((window.Jupyter !== undefined) && (Jupyter.notebook.kernel != null))) {\n        var comm_manager = window.comm_manager || Jupyter.notebook.kernel.comm_manager;\n        var comm = comm_manager.new_comm(comm_id, {}, {}, {}, comm_id);\n        if (msg_handler) {\n          comm.on_msg(msg_handler);\n        }\n      } else if ((plot_id in window.PyViz.kernels) && (window.PyViz.kernels[plot_id])) {\n        var comm = window.PyViz.kernels[plot_id].connectToComm(comm_id);\n        comm.open();\n        if (msg_handler) {\n          comm.onMsg = msg_handler;\n        }\n      } else if (typeof google != 'undefined' && google.colab.kernel != null) {\n        var comm_promise = google.colab.kernel.comms.open(comm_id)\n        comm_promise.then((comm) => {\n          window.PyViz.comms[comm_id] = comm;\n          if (msg_handler) {\n            var messages = comm.messages[Symbol.asyncIterator]();\n            function processIteratorResult(result) {\n              var message = result.value;\n              var content = {data: message.data};\n              var metadata = message.metadata || {comm_id};\n              var msg = {content, metadata}\n              msg_handler(msg);\n              return messages.next().then(processIteratorResult);\n            }\n            return messages.next().then(processIteratorResult);\n          }\n        }) \n        var sendClosure = (data, metadata, buffers, disposeOnDone) => {\n          return comm_promise.then((comm) => {\n            comm.send(data, metadata, buffers, disposeOnDone);\n          });\n        };\n        var comm = {\n          send: sendClosure\n        };\n      }\n      window.PyViz.comms[comm_id] = comm;\n      return comm;\n    }\n    window.PyViz.comm_manager = new JupyterCommManager();\n    \n\n\nvar JS_MIME_TYPE = 'application/javascript';\nvar HTML_MIME_TYPE = 'text/html';\nvar EXEC_MIME_TYPE = 'application/vnd.holoviews_exec.v0+json';\nvar CLASS_NAME = 'output';\n\n/**\n * Render data to the DOM node\n */\nfunction render(props, node) {\n  var div = document.createElement(\"div\");\n  var script = document.createElement(\"script\");\n  node.appendChild(div);\n  node.appendChild(script);\n}\n\n/**\n * Handle when a new output is added\n */\nfunction handle_add_output(event, handle) {\n  var output_area = handle.output_area;\n  var output = handle.output;\n  if ((output.data == undefined) || (!output.data.hasOwnProperty(EXEC_MIME_TYPE))) {\n    return\n  }\n  var id = output.metadata[EXEC_MIME_TYPE][\"id\"];\n  var toinsert = output_area.element.find(\".\" + CLASS_NAME.split(' ')[0]);\n  if (id !== undefined) {\n    var nchildren = toinsert.length;\n    var html_node = toinsert[nchildren-1].children[0];\n    html_node.innerHTML = output.data[HTML_MIME_TYPE];\n    var scripts = [];\n    var nodelist = html_node.querySelectorAll(\"script\");\n    for (var i in nodelist) {\n      if (nodelist.hasOwnProperty(i)) {\n        scripts.push(nodelist[i])\n      }\n    }\n\n    scripts.forEach( function (oldScript) {\n      var newScript = document.createElement(\"script\");\n      var attrs = [];\n      var nodemap = oldScript.attributes;\n      for (var j in nodemap) {\n        if (nodemap.hasOwnProperty(j)) {\n          attrs.push(nodemap[j])\n        }\n      }\n      attrs.forEach(function(attr) { newScript.setAttribute(attr.name, attr.value) });\n      newScript.appendChild(document.createTextNode(oldScript.innerHTML));\n      oldScript.parentNode.replaceChild(newScript, oldScript);\n    });\n    if (JS_MIME_TYPE in output.data) {\n      toinsert[nchildren-1].children[1].textContent = output.data[JS_MIME_TYPE];\n    }\n    output_area._hv_plot_id = id;\n    if ((window.Bokeh !== undefined) && (id in Bokeh.index)) {\n      window.PyViz.plot_index[id] = Bokeh.index[id];\n    } else {\n      window.PyViz.plot_index[id] = null;\n    }\n  } else if (output.metadata[EXEC_MIME_TYPE][\"server_id\"] !== undefined) {\n    var bk_div = document.createElement(\"div\");\n    bk_div.innerHTML = output.data[HTML_MIME_TYPE];\n    var script_attrs = bk_div.children[0].attributes;\n    for (var i = 0; i < script_attrs.length; i++) {\n      toinsert[toinsert.length - 1].childNodes[1].setAttribute(script_attrs[i].name, script_attrs[i].value);\n    }\n    // store reference to server id on output_area\n    output_area._bokeh_server_id = output.metadata[EXEC_MIME_TYPE][\"server_id\"];\n  }\n}\n\n/**\n * Handle when an output is cleared or removed\n */\nfunction handle_clear_output(event, handle) {\n  var id = handle.cell.output_area._hv_plot_id;\n  var server_id = handle.cell.output_area._bokeh_server_id;\n  if (((id === undefined) || !(id in PyViz.plot_index)) && (server_id !== undefined)) { return; }\n  var comm = window.PyViz.comm_manager.get_client_comm(\"hv-extension-comm\", \"hv-extension-comm\", function () {});\n  if (server_id !== null) {\n    comm.send({event_type: 'server_delete', 'id': server_id});\n    return;\n  } else if (comm !== null) {\n    comm.send({event_type: 'delete', 'id': id});\n  }\n  delete PyViz.plot_index[id];\n  if ((window.Bokeh !== undefined) & (id in window.Bokeh.index)) {\n    var doc = window.Bokeh.index[id].model.document\n    doc.clear();\n    const i = window.Bokeh.documents.indexOf(doc);\n    if (i > -1) {\n      window.Bokeh.documents.splice(i, 1);\n    }\n  }\n}\n\n/**\n * Handle kernel restart event\n */\nfunction handle_kernel_cleanup(event, handle) {\n  delete PyViz.comms[\"hv-extension-comm\"];\n  window.PyViz.plot_index = {}\n}\n\n/**\n * Handle update_display_data messages\n */\nfunction handle_update_output(event, handle) {\n  handle_clear_output(event, {cell: {output_area: handle.output_area}})\n  handle_add_output(event, handle)\n}\n\nfunction register_renderer(events, OutputArea) {\n  function append_mime(data, metadata, element) {\n    // create a DOM node to render to\n    var toinsert = this.create_output_subarea(\n    metadata,\n    CLASS_NAME,\n    EXEC_MIME_TYPE\n    );\n    this.keyboard_manager.register_events(toinsert);\n    // Render to node\n    var props = {data: data, metadata: metadata[EXEC_MIME_TYPE]};\n    render(props, toinsert[0]);\n    element.append(toinsert);\n    return toinsert\n  }\n\n  events.on('output_added.OutputArea', handle_add_output);\n  events.on('output_updated.OutputArea', handle_update_output);\n  events.on('clear_output.CodeCell', handle_clear_output);\n  events.on('delete.Cell', handle_clear_output);\n  events.on('kernel_ready.Kernel', handle_kernel_cleanup);\n\n  OutputArea.prototype.register_mime_type(EXEC_MIME_TYPE, append_mime, {\n    safe: true,\n    index: 0\n  });\n}\n\nif (window.Jupyter !== undefined) {\n  try {\n    var events = require('base/js/events');\n    var OutputArea = require('notebook/js/outputarea').OutputArea;\n    if (OutputArea.prototype.mime_types().indexOf(EXEC_MIME_TYPE) == -1) {\n      register_renderer(events, OutputArea);\n    }\n  } catch(err) {\n  }\n}\n",
      "application/vnd.holoviews_load.v0+json": ""
     },
     "metadata": {},
     "output_type": "display_data"
    },
    {
     "data": {
      "text/html": [
       "<style>*[data-root-id],\n",
       "*[data-root-id] > * {\n",
       "  box-sizing: border-box;\n",
       "  font-family: var(--jp-ui-font-family);\n",
       "  font-size: var(--jp-ui-font-size1);\n",
       "  color: var(--vscode-editor-foreground, var(--jp-ui-font-color1));\n",
       "}\n",
       "\n",
       "/* Override VSCode background color */\n",
       ".cell-output-ipywidget-background:has(> .cell-output-ipywidget-background\n",
       "    > .lm-Widget\n",
       "    > *[data-root-id]),\n",
       ".cell-output-ipywidget-background:has(> .lm-Widget > *[data-root-id]) {\n",
       "  background-color: transparent !important;\n",
       "}\n",
       "</style>"
      ]
     },
     "metadata": {},
     "output_type": "display_data"
    },
    {
     "data": {
      "application/vnd.holoviews_exec.v0+json": "",
      "text/html": [
       "<div id='aca977a1-55a0-4541-bcec-0751c5c36055'>\n",
       "  <div id=\"eeb2713b-a726-4280-84f3-2b2662080bff\" data-root-id=\"aca977a1-55a0-4541-bcec-0751c5c36055\" style=\"display: contents;\"></div>\n",
       "</div>\n",
       "<script type=\"application/javascript\">(function(root) {\n",
       "  var docs_json = {\"bda972c3-34ce-446b-9f1d-9945373e96d0\":{\"version\":\"3.1.1\",\"title\":\"Bokeh Application\",\"defs\":[{\"type\":\"model\",\"name\":\"ReactiveHTML1\"},{\"type\":\"model\",\"name\":\"FlexBox1\",\"properties\":[{\"name\":\"align_content\",\"kind\":\"Any\",\"default\":\"flex-start\"},{\"name\":\"align_items\",\"kind\":\"Any\",\"default\":\"flex-start\"},{\"name\":\"flex_direction\",\"kind\":\"Any\",\"default\":\"row\"},{\"name\":\"flex_wrap\",\"kind\":\"Any\",\"default\":\"wrap\"},{\"name\":\"justify_content\",\"kind\":\"Any\",\"default\":\"flex-start\"}]},{\"type\":\"model\",\"name\":\"FloatPanel1\",\"properties\":[{\"name\":\"config\",\"kind\":\"Any\",\"default\":{\"type\":\"map\"}},{\"name\":\"contained\",\"kind\":\"Any\",\"default\":true},{\"name\":\"position\",\"kind\":\"Any\",\"default\":\"right-top\"},{\"name\":\"offsetx\",\"kind\":\"Any\",\"default\":null},{\"name\":\"offsety\",\"kind\":\"Any\",\"default\":null},{\"name\":\"theme\",\"kind\":\"Any\",\"default\":\"primary\"},{\"name\":\"status\",\"kind\":\"Any\",\"default\":\"normalized\"}]},{\"type\":\"model\",\"name\":\"GridStack1\",\"properties\":[{\"name\":\"mode\",\"kind\":\"Any\",\"default\":\"warn\"},{\"name\":\"ncols\",\"kind\":\"Any\",\"default\":null},{\"name\":\"nrows\",\"kind\":\"Any\",\"default\":null},{\"name\":\"allow_resize\",\"kind\":\"Any\",\"default\":true},{\"name\":\"allow_drag\",\"kind\":\"Any\",\"default\":true},{\"name\":\"state\",\"kind\":\"Any\",\"default\":[]}]},{\"type\":\"model\",\"name\":\"drag1\",\"properties\":[{\"name\":\"slider_width\",\"kind\":\"Any\",\"default\":5},{\"name\":\"slider_color\",\"kind\":\"Any\",\"default\":\"black\"},{\"name\":\"value\",\"kind\":\"Any\",\"default\":50}]},{\"type\":\"model\",\"name\":\"click1\",\"properties\":[{\"name\":\"terminal_output\",\"kind\":\"Any\",\"default\":\"\"},{\"name\":\"debug_name\",\"kind\":\"Any\",\"default\":\"\"},{\"name\":\"clears\",\"kind\":\"Any\",\"default\":0}]},{\"type\":\"model\",\"name\":\"FastWrapper1\",\"properties\":[{\"name\":\"object\",\"kind\":\"Any\",\"default\":null},{\"name\":\"style\",\"kind\":\"Any\",\"default\":null}]},{\"type\":\"model\",\"name\":\"NotificationAreaBase1\",\"properties\":[{\"name\":\"position\",\"kind\":\"Any\",\"default\":\"bottom-right\"},{\"name\":\"_clear\",\"kind\":\"Any\",\"default\":0}]},{\"type\":\"model\",\"name\":\"NotificationArea1\",\"properties\":[{\"name\":\"notifications\",\"kind\":\"Any\",\"default\":[]},{\"name\":\"position\",\"kind\":\"Any\",\"default\":\"bottom-right\"},{\"name\":\"_clear\",\"kind\":\"Any\",\"default\":0},{\"name\":\"types\",\"kind\":\"Any\",\"default\":[{\"type\":\"map\",\"entries\":[[\"type\",\"warning\"],[\"background\",\"#ffc107\"],[\"icon\",{\"type\":\"map\",\"entries\":[[\"className\",\"fas fa-exclamation-triangle\"],[\"tagName\",\"i\"],[\"color\",\"white\"]]}]]},{\"type\":\"map\",\"entries\":[[\"type\",\"info\"],[\"background\",\"#007bff\"],[\"icon\",{\"type\":\"map\",\"entries\":[[\"className\",\"fas fa-info-circle\"],[\"tagName\",\"i\"],[\"color\",\"white\"]]}]]}]}]},{\"type\":\"model\",\"name\":\"Notification\",\"properties\":[{\"name\":\"background\",\"kind\":\"Any\",\"default\":null},{\"name\":\"duration\",\"kind\":\"Any\",\"default\":3000},{\"name\":\"icon\",\"kind\":\"Any\",\"default\":null},{\"name\":\"message\",\"kind\":\"Any\",\"default\":\"\"},{\"name\":\"notification_type\",\"kind\":\"Any\",\"default\":null},{\"name\":\"_destroyed\",\"kind\":\"Any\",\"default\":false}]},{\"type\":\"model\",\"name\":\"TemplateActions1\",\"properties\":[{\"name\":\"open_modal\",\"kind\":\"Any\",\"default\":0},{\"name\":\"close_modal\",\"kind\":\"Any\",\"default\":0}]},{\"type\":\"model\",\"name\":\"BootstrapTemplateActions1\",\"properties\":[{\"name\":\"open_modal\",\"kind\":\"Any\",\"default\":0},{\"name\":\"close_modal\",\"kind\":\"Any\",\"default\":0}]},{\"type\":\"model\",\"name\":\"MaterialTemplateActions1\",\"properties\":[{\"name\":\"open_modal\",\"kind\":\"Any\",\"default\":0},{\"name\":\"close_modal\",\"kind\":\"Any\",\"default\":0}]}],\"roots\":[{\"type\":\"object\",\"name\":\"panel.models.browser.BrowserInfo\",\"id\":\"aca977a1-55a0-4541-bcec-0751c5c36055\"},{\"type\":\"object\",\"name\":\"panel.models.comm_manager.CommManager\",\"id\":\"62020be7-f845-43d4-87dd-248b71c6735a\",\"attributes\":{\"plot_id\":\"aca977a1-55a0-4541-bcec-0751c5c36055\",\"comm_id\":\"cfd273c4834a425f857349480d0e1139\",\"client_comm_id\":\"49db8fe0795d425bb538f34b672367ae\"}}],\"callbacks\":{\"type\":\"map\"}}};\n",
       "  var render_items = [{\"docid\":\"bda972c3-34ce-446b-9f1d-9945373e96d0\",\"roots\":{\"aca977a1-55a0-4541-bcec-0751c5c36055\":\"eeb2713b-a726-4280-84f3-2b2662080bff\"},\"root_ids\":[\"aca977a1-55a0-4541-bcec-0751c5c36055\"]}];\n",
       "  var docs = Object.values(docs_json)\n",
       "  if (!docs) {\n",
       "    return\n",
       "  }\n",
       "  const py_version = docs[0].version.replace('rc', '-rc.').replace('.dev', '-dev.')\n",
       "  const is_dev = py_version.indexOf(\"+\") !== -1 || py_version.indexOf(\"-\") !== -1\n",
       "  function embed_document(root) {\n",
       "    var Bokeh = get_bokeh(root)\n",
       "    Bokeh.embed.embed_items_notebook(docs_json, render_items);\n",
       "    for (const render_item of render_items) {\n",
       "      for (const root_id of render_item.root_ids) {\n",
       "\tconst id_el = document.getElementById(root_id)\n",
       "\tif (id_el.children.length && (id_el.children[0].className === 'bk-root')) {\n",
       "\t  const root_el = id_el.children[0]\n",
       "\t  root_el.id = root_el.id + '-rendered'\n",
       "\t}\n",
       "      }\n",
       "    }\n",
       "  }\n",
       "  function get_bokeh(root) {\n",
       "    if (root.Bokeh === undefined) {\n",
       "      return null\n",
       "    } else if (root.Bokeh.version !== py_version && !is_dev) {\n",
       "      if (root.Bokeh.versions === undefined || !root.Bokeh.versions.has(py_version)) {\n",
       "\treturn null\n",
       "      }\n",
       "      return root.Bokeh.versions.get(py_version);\n",
       "    } else if (root.Bokeh.version === py_version) {\n",
       "      return root.Bokeh\n",
       "    }\n",
       "    return null\n",
       "  }\n",
       "  function is_loaded(root) {\n",
       "    var Bokeh = get_bokeh(root)\n",
       "    return (Bokeh != null && Bokeh.Panel !== undefined)\n",
       "  }\n",
       "  if (is_loaded(root)) {\n",
       "    embed_document(root);\n",
       "  } else {\n",
       "    var attempts = 0;\n",
       "    var timer = setInterval(function(root) {\n",
       "      if (is_loaded(root)) {\n",
       "        clearInterval(timer);\n",
       "        embed_document(root);\n",
       "      } else if (document.readyState == \"complete\") {\n",
       "        attempts++;\n",
       "        if (attempts > 200) {\n",
       "          clearInterval(timer);\n",
       "\t  var Bokeh = get_bokeh(root)\n",
       "\t  if (Bokeh == null || Bokeh.Panel == null) {\n",
       "            console.warn(\"Panel: ERROR: Unable to run Panel code because Bokeh or Panel library is missing\");\n",
       "\t  } else {\n",
       "\t    console.warn(\"Panel: WARNING: Attempting to render but not all required libraries could be resolved.\")\n",
       "\t    embed_document(root)\n",
       "\t  }\n",
       "        }\n",
       "      }\n",
       "    }, 25, root)\n",
       "  }\n",
       "})(window);</script>"
      ]
     },
     "metadata": {
      "application/vnd.holoviews_exec.v0+json": {
       "id": "aca977a1-55a0-4541-bcec-0751c5c36055"
      }
     },
     "output_type": "display_data"
    }
   ],
   "source": [
    "# Meta code to wrap into slides\n",
    "# `panel serve app.ipynb --autoreload`\n",
    "\n",
    "import panel as pn\n",
    "\n",
    "pn.extension(\n",
    "    template='slides', css_files=[\n",
    "        'https://fonts.googleapis.com/css?family=Inter'\n",
    "    ], raw_css=[\n",
    "        'html, body { font-family: \"Inter\",sans-serif; }',\n",
    "        ':root {--r-background-color: rgb(16, 39, 47) }',\n",
    "        \"h1 { text-align: left; font-size: 3em; }\",\n",
    "        \"h2 { text-align: left; font-size: 3em; }\",\n",
    "        \"li { text-align: left; font-size: 2em; }\",\n",
    "        \"pre { text-align: left; }\",\n",
    "    ],\n",
    "    theme='dark'\n",
    ")\n",
    "\n",
    "pn.state.template.param.update(\n",
    "    design=pn.theme.Material,\n",
    "    header_background='white',\n",
    "    logo='anaconda.png',\n",
    "    title='Improve ML performance with hvplot',\n",
    ")\n",
    "\n",
    "pn.state.template.config.param.update(\n",
    "    raw_css=[\n",
    "        \"#header { height: 0; padding: 20px; }\",\n",
    "        \"li { text-align: left; }\",\n",
    "        \"p { margin-block-start: 0.5em; margin-block-end: 0.2em}\",\n",
    "    ],\n",
    "    css_files=[pn.io.resources.CSS_URLS['font-awesome']]\n",
    ")\n",
    "\n",
    "slide = lambda *objs: pn.Column(\n",
    "    pn.Column(*objs), sizing_mode='stretch_both', min_height=600, styles={\n",
    "        'display': 'flex', 'height': '100%', 'align-items': 'center'\n",
    "    }\n",
    ")\n",
    "\n",
    "def header(text, size='4em', **kwargs):\n",
    "    return HTML(f'<span>{text}</span>', styles={'font-size': size, 'font-weight': 'bold'}, **kwargs)\n",
    "\n",
    "def text_fragment(text, size='0.5em', **kwargs):\n",
    "    return Markdown(\n",
    "        text,\n",
    "        styles={'font-size': size, 'font-weight': 'bold'},\n",
    "        tags=['fragment'], **kwargs\n",
    "    )\n",
    "\n",
    "\n",
    "def ends(df):\n",
    "    try:\n",
    "        return pn.Column(df.iloc[:5, :5], \"...\", df.iloc[-5:, -5:])\n",
    "    except:\n",
    "        return pn.Column(df.iloc[:5], \"...\", df.iloc[-5:])"
   ]
  },
  {
   "cell_type": "code",
   "execution_count": 2,
   "metadata": {},
   "outputs": [
    {
     "data": {
      "application/vnd.jupyter.widget-view+json": {
       "model_id": "f6dfb978707d4a37b1daf33160015294",
       "version_major": 2,
       "version_minor": 0
      },
      "text/plain": [
       "BokehModel(combine_events=True, render_bundle={'docs_json': {'a02188ed-b15c-4d3f-8078-325c655f374f': {'version…"
      ]
     },
     "execution_count": 2,
     "metadata": {},
     "output_type": "execute_result"
    }
   ],
   "source": [
    "slide(\n",
    "    pn.Column(\n",
    "        \"\"\"\n",
    "        # Improving ML performance with hvplot\n",
    "\n",
    "        - hvplot makes visualizing your data easy; simply set kwargs\n",
    "        - find the most influential variables for feature selection\n",
    "        - help improve model performance\n",
    "        \"\"\",\n",
    "        pn.Row(\n",
    "            pn.panel(\"heatmap.png\", width=300),\n",
    "            pn.panel(\"katrina.png\", width=300),\n",
    "            pn.panel(\"tracks_climatology.png\", width=300)\n",
    "        ),\n",
    "    ).servable()\n",
    ")\n"
   ]
  },
  {
   "cell_type": "code",
   "execution_count": 3,
   "metadata": {},
   "outputs": [
    {
     "name": "stderr",
     "output_type": "stream",
     "text": [
      "File ‘ibtracs.since1980.list.v04r00.csv’ already there; not retrieving.\n",
      "\n"
     ]
    },
    {
     "data": {
      "application/vnd.jupyter.widget-view+json": {
       "model_id": "54a07dd1ae9747faa66f677349335bb3",
       "version_major": 2,
       "version_minor": 0
      },
      "text/plain": [
       "BokehModel(combine_events=True, render_bundle={'docs_json': {'bcb8017e-c7a5-4dac-8f87-a75e218f02dd': {'version…"
      ]
     },
     "execution_count": 3,
     "metadata": {},
     "output_type": "execute_result"
    }
   ],
   "source": [
    "import os\n",
    "os.system(\"wget -nc https://www.ncei.noaa.gov/data/international-best-track-archive-for-climate-stewardship-ibtracs/v04r00/access/csv/ibtracs.since1980.list.v04r00.csv\")\n",
    "\n",
    "slide(\n",
    "    pn.Column(\n",
    "        \"\"\"\n",
    "        ## Download the data\n",
    "\n",
    "        - Archive of tropical cyclone records (TC) since 1980\n",
    "        - Tracks, intensity, location, wind speed, central pressure, etc\n",
    "        ```python\n",
    "        wget -nc https://www.ncei.noaa.gov/data/international-best-track-archive-for-\n",
    "        climate-stewardship-ibtracs/v04r00/access/csv/ibtracs.since1980.list.v04r00.csv\n",
    "        ```\n",
    "        \"\"\"\n",
    "    ).servable()\n",
    ")"
   ]
  },
  {
   "cell_type": "code",
   "execution_count": 4,
   "metadata": {},
   "outputs": [
    {
     "name": "stderr",
     "output_type": "stream",
     "text": [
      "/var/folders/8h/mk8mz7qn3_325ztm7pgb4ld00000gp/T/ipykernel_84938/4267609727.py:3: DtypeWarning: Columns (1,2,8,9,14,19,20,161,162) have mixed types. Specify dtype option on import or set low_memory=False.\n",
      "  df = pd.read_csv(\"ibtracs.since1980.list.v04r00.csv\")\n"
     ]
    },
    {
     "data": {
      "application/vnd.jupyter.widget-view+json": {
       "model_id": "cfaabeb8b9684ebc990e2618627e2030",
       "version_major": 2,
       "version_minor": 0
      },
      "text/plain": [
       "BokehModel(combine_events=True, render_bundle={'docs_json': {'13d2a0a0-3593-4d27-b201-3e2caa2c9dfe': {'version…"
      ]
     },
     "execution_count": 4,
     "metadata": {},
     "output_type": "execute_result"
    }
   ],
   "source": [
    "import pandas as pd\n",
    "\n",
    "df = pd.read_csv(\"ibtracs.since1980.list.v04r00.csv\")\n",
    "\n",
    "slide(\n",
    "    pn.Column(\n",
    "        pn.Row(\n",
    "            \"\"\"\n",
    "            ## Read / show the data\n",
    "\n",
    "            - Ensure data as expected\n",
    "            - Use display for prettier tables\n",
    "            - All are `objects` (strings)\n",
    "            \"\"\",\n",
    "            \"\"\"\n",
    "            ```python\n",
    "            import pandas as pd\n",
    "\n",
    "            pd.set_option('display.max_columns', None)\n",
    "            pd.set_option('display.max_rows', None)\n",
    "\n",
    "            df = pd.read_csv(\"ibtracs.since1980.list.v04r00.csv\")\n",
    "            display(df.dtypes[:8], df.head())\n",
    "            ```\n",
    "            \"\"\",\n",
    "        ),\n",
    "        pn.Row(ends(df.dtypes), ends(df)),\n",
    "    ).servable()\n",
    ")\n"
   ]
  },
  {
   "cell_type": "code",
   "execution_count": 5,
   "metadata": {},
   "outputs": [
    {
     "name": "stderr",
     "output_type": "stream",
     "text": [
      "/var/folders/8h/mk8mz7qn3_325ztm7pgb4ld00000gp/T/ipykernel_84938/1233139657.py:1: DtypeWarning: Columns (19,20,161,162) have mixed types. Specify dtype option on import or set low_memory=False.\n",
      "  df = pd.read_csv(\"ibtracs.since1980.list.v04r00.csv\", parse_dates=[\"ISO_TIME\"], skiprows=[1])\n"
     ]
    },
    {
     "data": {
      "application/vnd.jupyter.widget-view+json": {
       "model_id": "319c050f1eef4a1e8ff75c91f3064135",
       "version_major": 2,
       "version_minor": 0
      },
      "text/plain": [
       "BokehModel(combine_events=True, render_bundle={'docs_json': {'fec0332c-86a2-4d8b-b31d-49b830034de4': {'version…"
      ]
     },
     "execution_count": 5,
     "metadata": {},
     "output_type": "execute_result"
    }
   ],
   "source": [
    "df = pd.read_csv(\"ibtracs.since1980.list.v04r00.csv\", parse_dates=[\"ISO_TIME\"], skiprows=[1])\n",
    "\n",
    "icols = [19, 20, 161, 162]\n",
    "for icol in icols:\n",
    "    col = df.iloc[:, icol].name\n",
    "    df[col] = pd.to_numeric(df[col], errors=\"coerce\")\n",
    "\n",
    "slide(\n",
    "    pn.Column(\n",
    "        \"\"\"\n",
    "        ## Clean the data\n",
    "\n",
    "        - Remove second header row\n",
    "        - Fix data types (object to numeric)\n",
    "\n",
    "        ```python\n",
    "        df = pd.read_csv(\"ibtracs.since1980.list.v04r00.csv\", parse_dates=[\"ISO_TIME\"], skiprows=[1])\n",
    "    \n",
    "        icols = [19, 20, 161, 162]\n",
    "        for icol in icols:\n",
    "            col = df.iloc[:, icol].name\n",
    "            df[col] = pd.to_numeric(df[col], errors=\"coerce\")\n",
    "    \n",
    "        display(df.dtypes[:8], df.head())\n",
    "        ```\n",
    "        \"\"\",\n",
    "        pn.Row(ends(df.dtypes), ends(df)),\n",
    "    ).servable()\n",
    ")\n"
   ]
  },
  {
   "cell_type": "code",
   "execution_count": 6,
   "metadata": {},
   "outputs": [
    {
     "data": {
      "application/vnd.jupyter.widget-view+json": {
       "model_id": "6f569e05f4554de789b2d5d002ed7506",
       "version_major": 2,
       "version_minor": 0
      },
      "text/plain": [
       "BokehModel(combine_events=True, render_bundle={'docs_json': {'5e3c9e88-e8fa-434e-b3c6-feea246cb6a1': {'version…"
      ]
     },
     "execution_count": 6,
     "metadata": {},
     "output_type": "execute_result"
    }
   ],
   "source": [
    "df.to_parquet(\"ibtracs.parquet\")\n",
    "\n",
    "slide(\n",
    "    pn.Column(\n",
    "        \"\"\"\n",
    "        ## Convert the format\n",
    "\n",
    "        - Minimal effort for improved efficiency\n",
    "\n",
    "        ```python\n",
    "        df.to_parquet(\"ibtracs.parquet\")\n",
    "        ```\n",
    "        \"\"\",\n",
    "    ).servable()\n",
    ")\n"
   ]
  },
  {
   "cell_type": "code",
   "execution_count": 7,
   "metadata": {},
   "outputs": [
    {
     "data": {
      "application/javascript": "(function(root) {\n  function now() {\n    return new Date();\n  }\n\n  var force = true;\n  var py_version = '3.1.1'.replace('rc', '-rc.').replace('.dev', '-dev.');\n  var is_dev = py_version.indexOf(\"+\") !== -1 || py_version.indexOf(\"-\") !== -1;\n  var reloading = false;\n  var Bokeh = root.Bokeh;\n  var bokeh_loaded = Bokeh != null && (Bokeh.version === py_version || (Bokeh.versions !== undefined && Bokeh.versions.has(py_version)));\n\n  if (typeof (root._bokeh_timeout) === \"undefined\" || force) {\n    root._bokeh_timeout = Date.now() + 5000;\n    root._bokeh_failed_load = false;\n  }\n\n  function run_callbacks() {\n    try {\n      root._bokeh_onload_callbacks.forEach(function(callback) {\n        if (callback != null)\n          callback();\n      });\n    } finally {\n      delete root._bokeh_onload_callbacks;\n    }\n    console.debug(\"Bokeh: all callbacks have finished\");\n  }\n\n  function load_libs(css_urls, js_urls, js_modules, js_exports, callback) {\n    if (css_urls == null) css_urls = [];\n    if (js_urls == null) js_urls = [];\n    if (js_modules == null) js_modules = [];\n    if (js_exports == null) js_exports = {};\n\n    root._bokeh_onload_callbacks.push(callback);\n\n    if (root._bokeh_is_loading > 0) {\n      console.debug(\"Bokeh: BokehJS is being loaded, scheduling callback at\", now());\n      return null;\n    }\n    if (js_urls.length === 0 && js_modules.length === 0 && Object.keys(js_exports).length === 0) {\n      run_callbacks();\n      return null;\n    }\n    if (!reloading) {\n      console.debug(\"Bokeh: BokehJS not loaded, scheduling load and callback at\", now());\n    }\n\n    function on_load() {\n      root._bokeh_is_loading--;\n      if (root._bokeh_is_loading === 0) {\n        console.debug(\"Bokeh: all BokehJS libraries/stylesheets loaded\");\n        run_callbacks()\n      }\n    }\n    window._bokeh_on_load = on_load\n\n    function on_error() {\n      console.error(\"failed to load \" + url);\n    }\n\n    var skip = [];\n    if (window.requirejs) {\n      window.requirejs.config({'packages': {}, 'paths': {'jspanel': 'https://cdn.jsdelivr.net/npm/jspanel4@4.12.0/dist/jspanel', 'jspanel-modal': 'https://cdn.jsdelivr.net/npm/jspanel4@4.12.0/dist/extensions/modal/jspanel.modal', 'jspanel-tooltip': 'https://cdn.jsdelivr.net/npm/jspanel4@4.12.0/dist/extensions/tooltip/jspanel.tooltip', 'jspanel-hint': 'https://cdn.jsdelivr.net/npm/jspanel4@4.12.0/dist/extensions/hint/jspanel.hint', 'jspanel-layout': 'https://cdn.jsdelivr.net/npm/jspanel4@4.12.0/dist/extensions/layout/jspanel.layout', 'jspanel-contextmenu': 'https://cdn.jsdelivr.net/npm/jspanel4@4.12.0/dist/extensions/contextmenu/jspanel.contextmenu', 'jspanel-dock': 'https://cdn.jsdelivr.net/npm/jspanel4@4.12.0/dist/extensions/dock/jspanel.dock', 'gridstack': 'https://cdn.jsdelivr.net/npm/gridstack@7.2.3/dist/gridstack-all', 'notyf': 'https://cdn.jsdelivr.net/npm/notyf@3/notyf.min'}, 'shim': {'jspanel': {'exports': 'jsPanel'}, 'gridstack': {'exports': 'GridStack'}}});\n      require([\"jspanel\"], function(jsPanel) {\n\twindow.jsPanel = jsPanel\n\ton_load()\n      })\n      require([\"jspanel-modal\"], function() {\n\ton_load()\n      })\n      require([\"jspanel-tooltip\"], function() {\n\ton_load()\n      })\n      require([\"jspanel-hint\"], function() {\n\ton_load()\n      })\n      require([\"jspanel-layout\"], function() {\n\ton_load()\n      })\n      require([\"jspanel-contextmenu\"], function() {\n\ton_load()\n      })\n      require([\"jspanel-dock\"], function() {\n\ton_load()\n      })\n      require([\"gridstack\"], function(GridStack) {\n\twindow.GridStack = GridStack\n\ton_load()\n      })\n      require([\"notyf\"], function() {\n\ton_load()\n      })\n      root._bokeh_is_loading = css_urls.length + 9;\n    } else {\n      root._bokeh_is_loading = css_urls.length + js_urls.length + js_modules.length + Object.keys(js_exports).length;\n    }\n\n    var existing_stylesheets = []\n    var links = document.getElementsByTagName('link')\n    for (var i = 0; i < links.length; i++) {\n      var link = links[i]\n      if (link.href != null) {\n\texisting_stylesheets.push(link.href)\n      }\n    }\n    for (var i = 0; i < css_urls.length; i++) {\n      var url = css_urls[i];\n      if (existing_stylesheets.indexOf(url) !== -1) {\n\ton_load()\n\tcontinue;\n      }\n      const element = document.createElement(\"link\");\n      element.onload = on_load;\n      element.onerror = on_error;\n      element.rel = \"stylesheet\";\n      element.type = \"text/css\";\n      element.href = url;\n      console.debug(\"Bokeh: injecting link tag for BokehJS stylesheet: \", url);\n      document.body.appendChild(element);\n    }    if (((window['jsPanel'] !== undefined) && (!(window['jsPanel'] instanceof HTMLElement))) || window.requirejs) {\n      var urls = ['https://cdn.holoviz.org/panel/1.1.1/dist/bundled/floatpanel/jspanel4@4.12.0/dist/jspanel.js', 'https://cdn.holoviz.org/panel/1.1.1/dist/bundled/floatpanel/jspanel4@4.12.0/dist/extensions/modal/jspanel.modal.js', 'https://cdn.holoviz.org/panel/1.1.1/dist/bundled/floatpanel/jspanel4@4.12.0/dist/extensions/tooltip/jspanel.tooltip.js', 'https://cdn.holoviz.org/panel/1.1.1/dist/bundled/floatpanel/jspanel4@4.12.0/dist/extensions/hint/jspanel.hint.js', 'https://cdn.holoviz.org/panel/1.1.1/dist/bundled/floatpanel/jspanel4@4.12.0/dist/extensions/layout/jspanel.layout.js', 'https://cdn.holoviz.org/panel/1.1.1/dist/bundled/floatpanel/jspanel4@4.12.0/dist/extensions/contextmenu/jspanel.contextmenu.js', 'https://cdn.holoviz.org/panel/1.1.1/dist/bundled/floatpanel/jspanel4@4.12.0/dist/extensions/dock/jspanel.dock.js'];\n      for (var i = 0; i < urls.length; i++) {\n        skip.push(urls[i])\n      }\n    }    if (((window['GridStack'] !== undefined) && (!(window['GridStack'] instanceof HTMLElement))) || window.requirejs) {\n      var urls = ['https://cdn.holoviz.org/panel/1.1.1/dist/bundled/gridstack/gridstack@7.2.3/dist/gridstack-all.js'];\n      for (var i = 0; i < urls.length; i++) {\n        skip.push(urls[i])\n      }\n    }    if (((window['Notyf'] !== undefined) && (!(window['Notyf'] instanceof HTMLElement))) || window.requirejs) {\n      var urls = ['https://cdn.holoviz.org/panel/1.1.1/dist/bundled/notificationarea/notyf@3/notyf.min.js'];\n      for (var i = 0; i < urls.length; i++) {\n        skip.push(urls[i])\n      }\n    }    var existing_scripts = []\n    var scripts = document.getElementsByTagName('script')\n    for (var i = 0; i < scripts.length; i++) {\n      var script = scripts[i]\n      if (script.src != null) {\n\texisting_scripts.push(script.src)\n      }\n    }\n    for (var i = 0; i < js_urls.length; i++) {\n      var url = js_urls[i];\n      if (skip.indexOf(url) !== -1 || existing_scripts.indexOf(url) !== -1) {\n\tif (!window.requirejs) {\n\t  on_load();\n\t}\n\tcontinue;\n      }\n      var element = document.createElement('script');\n      element.onload = on_load;\n      element.onerror = on_error;\n      element.async = false;\n      element.src = url;\n      console.debug(\"Bokeh: injecting script tag for BokehJS library: \", url);\n      document.head.appendChild(element);\n    }\n    for (var i = 0; i < js_modules.length; i++) {\n      var url = js_modules[i];\n      if (skip.indexOf(url) !== -1 || existing_scripts.indexOf(url) !== -1) {\n\tif (!window.requirejs) {\n\t  on_load();\n\t}\n\tcontinue;\n      }\n      var element = document.createElement('script');\n      element.onload = on_load;\n      element.onerror = on_error;\n      element.async = false;\n      element.src = url;\n      element.type = \"module\";\n      console.debug(\"Bokeh: injecting script tag for BokehJS library: \", url);\n      document.head.appendChild(element);\n    }\n    for (const name in js_exports) {\n      var url = js_exports[name];\n      if (skip.indexOf(url) >= 0 || root[name] != null) {\n\tif (!window.requirejs) {\n\t  on_load();\n\t}\n\tcontinue;\n      }\n      var element = document.createElement('script');\n      element.onerror = on_error;\n      element.async = false;\n      element.type = \"module\";\n      console.debug(\"Bokeh: injecting script tag for BokehJS library: \", url);\n      element.textContent = `\n      import ${name} from \"${url}\"\n      window.${name} = ${name}\n      window._bokeh_on_load()\n      `\n      document.head.appendChild(element);\n    }\n    if (!js_urls.length && !js_modules.length) {\n      on_load()\n    }\n  };\n\n  function inject_raw_css(css) {\n    const element = document.createElement(\"style\");\n    element.appendChild(document.createTextNode(css));\n    document.body.appendChild(element);\n  }\n\n  var js_urls = [\"https://cdn.bokeh.org/bokeh/release/bokeh-3.1.1.min.js\", \"https://cdn.bokeh.org/bokeh/release/bokeh-gl-3.1.1.min.js\", \"https://cdn.bokeh.org/bokeh/release/bokeh-widgets-3.1.1.min.js\", \"https://cdn.bokeh.org/bokeh/release/bokeh-tables-3.1.1.min.js\", \"https://cdn.holoviz.org/panel/1.1.1/dist/panel.min.js\"];\n  var js_modules = [];\n  var js_exports = {};\n  var css_urls = [\"https://fonts.googleapis.com/css?family=Inter\"];\n  var inline_js = [    function(Bokeh) {\n      inject_raw_css(\"html, body { font-family: \\\"Inter\\\",sans-serif; }\");\n    },    function(Bokeh) {\n      inject_raw_css(\":root {--r-background-color: rgb(16, 39, 47) }\");\n    },    function(Bokeh) {\n      inject_raw_css(\"h1 { text-align: left; font-size: 3em; }\");\n    },    function(Bokeh) {\n      inject_raw_css(\"h2 { text-align: left; font-size: 3em; }\");\n    },    function(Bokeh) {\n      inject_raw_css(\"li { text-align: left; font-size: 2em; }\");\n    },    function(Bokeh) {\n      inject_raw_css(\"pre { text-align: left; }\");\n    },    function(Bokeh) {\n      Bokeh.set_log_level(\"info\");\n    },\nfunction(Bokeh) {} // ensure no trailing comma for IE\n  ];\n\n  function run_inline_js() {\n    if ((root.Bokeh !== undefined) || (force === true)) {\n      for (var i = 0; i < inline_js.length; i++) {\n        inline_js[i].call(root, root.Bokeh);\n      }\n      // Cache old bokeh versions\n      if (Bokeh != undefined && !reloading) {\n\tvar NewBokeh = root.Bokeh;\n\tif (Bokeh.versions === undefined) {\n\t  Bokeh.versions = new Map();\n\t}\n\tif (NewBokeh.version !== Bokeh.version) {\n\t  Bokeh.versions.set(NewBokeh.version, NewBokeh)\n\t}\n\troot.Bokeh = Bokeh;\n      }} else if (Date.now() < root._bokeh_timeout) {\n      setTimeout(run_inline_js, 100);\n    } else if (!root._bokeh_failed_load) {\n      console.log(\"Bokeh: BokehJS failed to load within specified timeout.\");\n      root._bokeh_failed_load = true;\n    }\n    root._bokeh_is_initializing = false\n  }\n\n  function load_or_wait() {\n    // Implement a backoff loop that tries to ensure we do not load multiple\n    // versions of Bokeh and its dependencies at the same time.\n    // In recent versions we use the root._bokeh_is_initializing flag\n    // to determine whether there is an ongoing attempt to initialize\n    // bokeh, however for backward compatibility we also try to ensure\n    // that we do not start loading a newer (Panel>=1.0 and Bokeh>3) version\n    // before older versions are fully initialized.\n    if (root._bokeh_is_initializing && Date.now() > root._bokeh_timeout) {\n      root._bokeh_is_initializing = false;\n      root._bokeh_onload_callbacks = undefined;\n      console.log(\"Bokeh: BokehJS was loaded multiple times but one version failed to initialize.\");\n      load_or_wait();\n    } else if (root._bokeh_is_initializing || (typeof root._bokeh_is_initializing === \"undefined\" && root._bokeh_onload_callbacks !== undefined)) {\n      setTimeout(load_or_wait, 100);\n    } else {\n      Bokeh = root.Bokeh;\n      bokeh_loaded = Bokeh != null && (Bokeh.version === py_version || (Bokeh.versions !== undefined && Bokeh.versions.has(py_version)));\n      root._bokeh_is_initializing = true\n      root._bokeh_onload_callbacks = []\n      if (!reloading && (!bokeh_loaded || is_dev)) {\n\troot.Bokeh = undefined;\n      }\n      load_libs(css_urls, js_urls, js_modules, js_exports, function() {\n\tconsole.debug(\"Bokeh: BokehJS plotting callback run at\", now());\n\trun_inline_js();\n      });\n    }\n  }\n  // Give older versions of the autoload script a head-start to ensure\n  // they initialize before we start loading newer version.\n  setTimeout(load_or_wait, 100)\n}(window));",
      "application/vnd.holoviews_load.v0+json": ""
     },
     "metadata": {},
     "output_type": "display_data"
    },
    {
     "data": {
      "application/javascript": "\nif ((window.PyViz === undefined) || (window.PyViz instanceof HTMLElement)) {\n  window.PyViz = {comms: {}, comm_status:{}, kernels:{}, receivers: {}, plot_index: []}\n}\n\n\n    function JupyterCommManager() {\n    }\n\n    JupyterCommManager.prototype.register_target = function(plot_id, comm_id, msg_handler) {\n      if (window.comm_manager || ((window.Jupyter !== undefined) && (Jupyter.notebook.kernel != null))) {\n        var comm_manager = window.comm_manager || Jupyter.notebook.kernel.comm_manager;\n        comm_manager.register_target(comm_id, function(comm) {\n          comm.on_msg(msg_handler);\n        });\n      } else if ((plot_id in window.PyViz.kernels) && (window.PyViz.kernels[plot_id])) {\n        window.PyViz.kernels[plot_id].registerCommTarget(comm_id, function(comm) {\n          comm.onMsg = msg_handler;\n        });\n      } else if (typeof google != 'undefined' && google.colab.kernel != null) {\n        google.colab.kernel.comms.registerTarget(comm_id, (comm) => {\n          var messages = comm.messages[Symbol.asyncIterator]();\n          function processIteratorResult(result) {\n            var message = result.value;\n            console.log(message)\n            var content = {data: message.data, comm_id};\n            var buffers = []\n            for (var buffer of message.buffers || []) {\n              buffers.push(new DataView(buffer))\n            }\n            var metadata = message.metadata || {};\n            var msg = {content, buffers, metadata}\n            msg_handler(msg);\n            return messages.next().then(processIteratorResult);\n          }\n          return messages.next().then(processIteratorResult);\n        })\n      }\n    }\n\n    JupyterCommManager.prototype.get_client_comm = function(plot_id, comm_id, msg_handler) {\n      if (comm_id in window.PyViz.comms) {\n        return window.PyViz.comms[comm_id];\n      } else if (window.comm_manager || ((window.Jupyter !== undefined) && (Jupyter.notebook.kernel != null))) {\n        var comm_manager = window.comm_manager || Jupyter.notebook.kernel.comm_manager;\n        var comm = comm_manager.new_comm(comm_id, {}, {}, {}, comm_id);\n        if (msg_handler) {\n          comm.on_msg(msg_handler);\n        }\n      } else if ((plot_id in window.PyViz.kernels) && (window.PyViz.kernels[plot_id])) {\n        var comm = window.PyViz.kernels[plot_id].connectToComm(comm_id);\n        comm.open();\n        if (msg_handler) {\n          comm.onMsg = msg_handler;\n        }\n      } else if (typeof google != 'undefined' && google.colab.kernel != null) {\n        var comm_promise = google.colab.kernel.comms.open(comm_id)\n        comm_promise.then((comm) => {\n          window.PyViz.comms[comm_id] = comm;\n          if (msg_handler) {\n            var messages = comm.messages[Symbol.asyncIterator]();\n            function processIteratorResult(result) {\n              var message = result.value;\n              var content = {data: message.data};\n              var metadata = message.metadata || {comm_id};\n              var msg = {content, metadata}\n              msg_handler(msg);\n              return messages.next().then(processIteratorResult);\n            }\n            return messages.next().then(processIteratorResult);\n          }\n        }) \n        var sendClosure = (data, metadata, buffers, disposeOnDone) => {\n          return comm_promise.then((comm) => {\n            comm.send(data, metadata, buffers, disposeOnDone);\n          });\n        };\n        var comm = {\n          send: sendClosure\n        };\n      }\n      window.PyViz.comms[comm_id] = comm;\n      return comm;\n    }\n    window.PyViz.comm_manager = new JupyterCommManager();\n    \n\n\nvar JS_MIME_TYPE = 'application/javascript';\nvar HTML_MIME_TYPE = 'text/html';\nvar EXEC_MIME_TYPE = 'application/vnd.holoviews_exec.v0+json';\nvar CLASS_NAME = 'output';\n\n/**\n * Render data to the DOM node\n */\nfunction render(props, node) {\n  var div = document.createElement(\"div\");\n  var script = document.createElement(\"script\");\n  node.appendChild(div);\n  node.appendChild(script);\n}\n\n/**\n * Handle when a new output is added\n */\nfunction handle_add_output(event, handle) {\n  var output_area = handle.output_area;\n  var output = handle.output;\n  if ((output.data == undefined) || (!output.data.hasOwnProperty(EXEC_MIME_TYPE))) {\n    return\n  }\n  var id = output.metadata[EXEC_MIME_TYPE][\"id\"];\n  var toinsert = output_area.element.find(\".\" + CLASS_NAME.split(' ')[0]);\n  if (id !== undefined) {\n    var nchildren = toinsert.length;\n    var html_node = toinsert[nchildren-1].children[0];\n    html_node.innerHTML = output.data[HTML_MIME_TYPE];\n    var scripts = [];\n    var nodelist = html_node.querySelectorAll(\"script\");\n    for (var i in nodelist) {\n      if (nodelist.hasOwnProperty(i)) {\n        scripts.push(nodelist[i])\n      }\n    }\n\n    scripts.forEach( function (oldScript) {\n      var newScript = document.createElement(\"script\");\n      var attrs = [];\n      var nodemap = oldScript.attributes;\n      for (var j in nodemap) {\n        if (nodemap.hasOwnProperty(j)) {\n          attrs.push(nodemap[j])\n        }\n      }\n      attrs.forEach(function(attr) { newScript.setAttribute(attr.name, attr.value) });\n      newScript.appendChild(document.createTextNode(oldScript.innerHTML));\n      oldScript.parentNode.replaceChild(newScript, oldScript);\n    });\n    if (JS_MIME_TYPE in output.data) {\n      toinsert[nchildren-1].children[1].textContent = output.data[JS_MIME_TYPE];\n    }\n    output_area._hv_plot_id = id;\n    if ((window.Bokeh !== undefined) && (id in Bokeh.index)) {\n      window.PyViz.plot_index[id] = Bokeh.index[id];\n    } else {\n      window.PyViz.plot_index[id] = null;\n    }\n  } else if (output.metadata[EXEC_MIME_TYPE][\"server_id\"] !== undefined) {\n    var bk_div = document.createElement(\"div\");\n    bk_div.innerHTML = output.data[HTML_MIME_TYPE];\n    var script_attrs = bk_div.children[0].attributes;\n    for (var i = 0; i < script_attrs.length; i++) {\n      toinsert[toinsert.length - 1].childNodes[1].setAttribute(script_attrs[i].name, script_attrs[i].value);\n    }\n    // store reference to server id on output_area\n    output_area._bokeh_server_id = output.metadata[EXEC_MIME_TYPE][\"server_id\"];\n  }\n}\n\n/**\n * Handle when an output is cleared or removed\n */\nfunction handle_clear_output(event, handle) {\n  var id = handle.cell.output_area._hv_plot_id;\n  var server_id = handle.cell.output_area._bokeh_server_id;\n  if (((id === undefined) || !(id in PyViz.plot_index)) && (server_id !== undefined)) { return; }\n  var comm = window.PyViz.comm_manager.get_client_comm(\"hv-extension-comm\", \"hv-extension-comm\", function () {});\n  if (server_id !== null) {\n    comm.send({event_type: 'server_delete', 'id': server_id});\n    return;\n  } else if (comm !== null) {\n    comm.send({event_type: 'delete', 'id': id});\n  }\n  delete PyViz.plot_index[id];\n  if ((window.Bokeh !== undefined) & (id in window.Bokeh.index)) {\n    var doc = window.Bokeh.index[id].model.document\n    doc.clear();\n    const i = window.Bokeh.documents.indexOf(doc);\n    if (i > -1) {\n      window.Bokeh.documents.splice(i, 1);\n    }\n  }\n}\n\n/**\n * Handle kernel restart event\n */\nfunction handle_kernel_cleanup(event, handle) {\n  delete PyViz.comms[\"hv-extension-comm\"];\n  window.PyViz.plot_index = {}\n}\n\n/**\n * Handle update_display_data messages\n */\nfunction handle_update_output(event, handle) {\n  handle_clear_output(event, {cell: {output_area: handle.output_area}})\n  handle_add_output(event, handle)\n}\n\nfunction register_renderer(events, OutputArea) {\n  function append_mime(data, metadata, element) {\n    // create a DOM node to render to\n    var toinsert = this.create_output_subarea(\n    metadata,\n    CLASS_NAME,\n    EXEC_MIME_TYPE\n    );\n    this.keyboard_manager.register_events(toinsert);\n    // Render to node\n    var props = {data: data, metadata: metadata[EXEC_MIME_TYPE]};\n    render(props, toinsert[0]);\n    element.append(toinsert);\n    return toinsert\n  }\n\n  events.on('output_added.OutputArea', handle_add_output);\n  events.on('output_updated.OutputArea', handle_update_output);\n  events.on('clear_output.CodeCell', handle_clear_output);\n  events.on('delete.Cell', handle_clear_output);\n  events.on('kernel_ready.Kernel', handle_kernel_cleanup);\n\n  OutputArea.prototype.register_mime_type(EXEC_MIME_TYPE, append_mime, {\n    safe: true,\n    index: 0\n  });\n}\n\nif (window.Jupyter !== undefined) {\n  try {\n    var events = require('base/js/events');\n    var OutputArea = require('notebook/js/outputarea').OutputArea;\n    if (OutputArea.prototype.mime_types().indexOf(EXEC_MIME_TYPE) == -1) {\n      register_renderer(events, OutputArea);\n    }\n  } catch(err) {\n  }\n}\n",
      "application/vnd.holoviews_load.v0+json": ""
     },
     "metadata": {},
     "output_type": "display_data"
    },
    {
     "data": {
      "text/html": [
       "<style>*[data-root-id],\n",
       "*[data-root-id] > * {\n",
       "  box-sizing: border-box;\n",
       "  font-family: var(--jp-ui-font-family);\n",
       "  font-size: var(--jp-ui-font-size1);\n",
       "  color: var(--vscode-editor-foreground, var(--jp-ui-font-color1));\n",
       "}\n",
       "\n",
       "/* Override VSCode background color */\n",
       ".cell-output-ipywidget-background:has(> .cell-output-ipywidget-background\n",
       "    > .lm-Widget\n",
       "    > *[data-root-id]),\n",
       ".cell-output-ipywidget-background:has(> .lm-Widget > *[data-root-id]) {\n",
       "  background-color: transparent !important;\n",
       "}\n",
       "</style>"
      ]
     },
     "metadata": {},
     "output_type": "display_data"
    },
    {
     "data": {
      "application/vnd.jupyter.widget-view+json": {
       "model_id": "daf7bf6244ab4888ae13b96ee51a2190",
       "version_major": 2,
       "version_minor": 0
      },
      "text/plain": [
       "BokehModel(combine_events=True, render_bundle={'docs_json': {'17028035-153f-4296-a360-9f9193c689b7': {'version…"
      ]
     },
     "execution_count": 7,
     "metadata": {},
     "output_type": "execute_result"
    }
   ],
   "source": [
    "import duckdb\n",
    "import hvplot.pandas\n",
    "\n",
    "katrina_df = duckdb.execute(\n",
    "    \"\"\"\n",
    "    SELECT LON, LAT, USA_SSHS, USA_WIND, USA_PRES, ISO_TIME\n",
    "    FROM 'ibtracs.parquet'\n",
    "    WHERE NAME == 'KATRINA' AND SEASON == 2005\n",
    "    \"\"\"\n",
    ").fetchdf()\n",
    "\n",
    "katrina_points = katrina_df.hvplot.points(\n",
    "    x=\"LON\",\n",
    "    y=\"LAT\",\n",
    "    color=\"USA_SSHS\",\n",
    "    hover_cols=[\"USA_WIND\", \"USA_PRES\", \"ISO_TIME\"],\n",
    "    tiles=True,\n",
    "    aspect=1\n",
    ").opts(responsive=True)\n",
    "\n",
    "slide(\n",
    "    pn.Row(\n",
    "        '''\n",
    "        ## Plot Katrina track\n",
    "\n",
    "        - Using duckdb + SQL to read parquet\n",
    "        - Easier to type and read and more performant\n",
    "        - `fetchdf()` serializes into `pd.DataFrame`\n",
    "        - Effortlessly plot by setting keywords\n",
    "\n",
    "        ```python\n",
    "        import duckdb\n",
    "        import hvplot.pandas\n",
    "\n",
    "        katrina_df = duckdb.execute(\n",
    "            \"\"\"\n",
    "            SELECT LON, LAT, USA_SSHS, USA_WIND, USA_PRES, ISO_TIME\n",
    "            FROM 'ibtracs.parquet'\n",
    "            WHERE NAME == 'KATRINA' AND SEASON == 2005\n",
    "            \"\"\"\n",
    "        ).fetchdf()\n",
    "\n",
    "        # equivalent to the above\n",
    "        # df = pd.read_parquet(\"ibtracs.parquet\")\n",
    "        # katrina_df = df.loc[\n",
    "        #   (df[\"NAME\"] == \"KATRINA\") &\n",
    "        #   (df[\"SEASON\"] == 2005),\n",
    "        #   [\"LON\", \"LAT\", \"USA_SSHS\", \"USA_WIND\", \"USA_PRES\", \"ISO_TIME\"]\n",
    "        # ]\n",
    "\n",
    "        katrina_df.hvplot.points(\n",
    "            x=\"LON\",\n",
    "            y=\"LAT\",\n",
    "            color=\"USA_SSHS\",\n",
    "            hover_cols=[\"USA_WIND\", \"USA_PRES\", \"ISO_TIME\"],\n",
    "            tiles=True,\n",
    "        )\n",
    "        ```\n",
    "        ''',\n",
    "    ).servable()\n",
    ")\n",
    "\n",
    "\n",
    "slide(\n",
    "    pn.pane.HoloViews(katrina_points).servable()\n",
    ")"
   ]
  },
  {
   "cell_type": "code",
   "execution_count": 8,
   "metadata": {},
   "outputs": [
    {
     "data": {
      "application/vnd.jupyter.widget-view+json": {
       "model_id": "f649779305fd475d8c22ae5b7bc703ce",
       "version_major": 2,
       "version_minor": 0
      },
      "text/plain": [
       "BokehModel(combine_events=True, render_bundle={'docs_json': {'7290430d-c20c-4e6a-a61b-0d70d13c1bed': {'version…"
      ]
     },
     "execution_count": 8,
     "metadata": {},
     "output_type": "execute_result"
    }
   ],
   "source": [
    "import duckdb\n",
    "import hvplot.pandas\n",
    "import holoviews as hv\n",
    "\n",
    "df = duckdb.query(\n",
    "    \"\"\"\n",
    "    SELECT LON, LAT FROM 'ibtracs.parquet'\n",
    "    \"\"\"\n",
    ").fetchdf()\n",
    "\n",
    "climatology_points = df.hvplot.points(\n",
    "    x=\"LON\",\n",
    "    y=\"LAT\",\n",
    "    cmap=\"viridis\",\n",
    "    rasterize=True,\n",
    "    tiles=True,\n",
    "    x_sampling=1,\n",
    "    y_sampling=1,\n",
    "    aspect=1,\n",
    ").opts(xlim=(-179, 179), responsive=True)\n",
    "\n",
    "slide(\n",
    "    pn.Column(\n",
    "        '''\n",
    "        ## Plot tracks climatology\n",
    "\n",
    "        - `rasterize` can visualize billions of points\n",
    "        - Prevents overplotting--converts into 2D histogram\n",
    "\n",
    "        ```python\n",
    "        import duckdb\n",
    "        import hvplot.pandas\n",
    "\n",
    "        df = duckdb.query(\n",
    "            \"\"\"\n",
    "            SELECT LON, LAT FROM 'ibtracs.parquet'\n",
    "            \"\"\"\n",
    "        ).fetchdf()\n",
    "\n",
    "        df.hvplot.points(\n",
    "            x=\"LON\",\n",
    "            y=\"LAT\",\n",
    "            cmap=\"viridis\",\n",
    "            rasterize=True,\n",
    "            coastline=True,\n",
    "            global_extent=True,\n",
    "        )\n",
    "        ```\n",
    "        ''',\n",
    "    ).servable()\n",
    ")\n",
    "\n",
    "slide(\n",
    "    pn.pane.HoloViews(climatology_points).servable()\n",
    ")"
   ]
  },
  {
   "cell_type": "code",
   "execution_count": 9,
   "metadata": {},
   "outputs": [
    {
     "data": {
      "application/vnd.jupyter.widget-view+json": {
       "model_id": "aab26013fb3a49288710c475964a3f22",
       "version_major": 2,
       "version_minor": 0
      },
      "text/plain": [
       "BokehModel(combine_events=True, render_bundle={'docs_json': {'e890bf9d-6d08-494b-a0f6-7c683b94e0c8': {'version…"
      ]
     },
     "execution_count": 9,
     "metadata": {},
     "output_type": "execute_result"
    }
   ],
   "source": [
    "slide(\n",
    "    pn.Row(\n",
    "        '''\n",
    "        ## Initial motivation\n",
    "\n",
    "        \"El Niño events generally suppress Atlantic hurricane<br>activity\n",
    "        with fewer hurricanes than normal in the Atlantic basin<br>\n",
    "        during the peak of Atlantic hurricane season\"\n",
    "        [[Source](https://www.weather.gov/jan/el_nino_and_la_nina)].\n",
    "        ''',\n",
    "        pn.panel(\"https://www.weather.gov/images/jan/ElNino_LaNina/elninowxpatterns.gif\"),\n",
    "    ).servable()\n",
    ")"
   ]
  },
  {
   "cell_type": "code",
   "execution_count": 10,
   "metadata": {},
   "outputs": [
    {
     "data": {
      "application/vnd.jupyter.widget-view+json": {
       "model_id": "bf7c4ad585514146833b54b91b6d70fb",
       "version_major": 2,
       "version_minor": 0
      },
      "text/plain": [
       "BokehModel(combine_events=True, render_bundle={'docs_json': {'aeb994c4-f543-40bc-bd23-914deeca11f7': {'version…"
      ]
     },
     "execution_count": 10,
     "metadata": {},
     "output_type": "execute_result"
    }
   ],
   "source": [
    "atlantic_df = duckdb.execute(\"\"\"\n",
    "    SELECT *\n",
    "    FROM ibtracs.parquet\n",
    "    WHERE\n",
    "        NAME != 'NOT_NAMED' AND\n",
    "        USA_ATCF_ID LIKE 'AL%' AND\n",
    "        SEASON < 2023 AND\n",
    "        DATE_PART('month', ISO_TIME) >= 6 AND\n",
    "        DATE_PART('month', ISO_TIME) <= 11\n",
    "\"\"\").fetchdf()\n",
    "\n",
    "atlantic_points = atlantic_df.hvplot.points(\n",
    "    x=\"LON\",\n",
    "    y=\"LAT\",\n",
    "    cmap=\"viridis\",\n",
    "    rasterize=True,\n",
    "    tiles=True,\n",
    "    x_sampling=1,\n",
    "    y_sampling=1,\n",
    "    aspect=1,\n",
    ").opts(xlim=(-179, 179), responsive=True)\n",
    "\n",
    "\n",
    "slide(\n",
    "    pn.Column(\n",
    "        '''\n",
    "        ## Select Atlantic hurricane season\n",
    "\n",
    "        - The six-month season runs from June 1 to November 30 [[Source](https://www.noaa.gov/news-release/2023-atlantic-hurricane-season-outlook)].\n",
    "        - Subset named hurricanes in the Atlantic basin during season only\n",
    "        - Verify queried as expected by visualizing\n",
    "\n",
    "        ```python\n",
    "        atlantic_df = duckdb.execute(\"\"\"\n",
    "            SELECT *\n",
    "            FROM ibtracs.parquet\n",
    "            WHERE\n",
    "                NAME != 'NOT_NAMED' AND\n",
    "                USA_ATCF_ID LIKE 'AL%' AND\n",
    "                SEASON < 2023 AND\n",
    "                DATE_PART('month', ISO_TIME) >= 6 AND\n",
    "                DATE_PART('month', ISO_TIME) <= 11\n",
    "        \"\"\").fetchdf()\n",
    "\n",
    "        # equivalent to the above\n",
    "        # df = pd.read_parquet(\"ibtracs.parquet\")\n",
    "        # atlantic_df = df.loc[\n",
    "        #   (df[\"USA_SSHS\"] > 0) &\n",
    "        #   (df[\"USA_ATCF_ID\"].str.startswith(\"AL\"))\n",
    "        # ]\n",
    "\n",
    "        atlantic_df.hvplot.points(\n",
    "            x=\"LON\",\n",
    "            y=\"LAT\",\n",
    "            cmap=\"viridis\",\n",
    "            rasterize=True,\n",
    "            coastline=True,\n",
    "            x_sampling=1,\n",
    "            y_sampling=1,\n",
    "        )\n",
    "        ```\n",
    "        ''',\n",
    "    ).servable()\n",
    ")\n",
    "\n",
    "slide(\n",
    "    pn.pane.HoloViews(atlantic_points).servable()\n",
    ")"
   ]
  },
  {
   "cell_type": "code",
   "execution_count": 11,
   "metadata": {},
   "outputs": [
    {
     "data": {
      "application/vnd.jupyter.widget-view+json": {
       "model_id": "bf4ca026147b46d6a3dcc3c794686424",
       "version_major": 2,
       "version_minor": 0
      },
      "text/plain": [
       "BokehModel(combine_events=True, render_bundle={'docs_json': {'8d5e6113-bb3c-4597-af17-707286dac84b': {'version…"
      ]
     },
     "execution_count": 11,
     "metadata": {},
     "output_type": "execute_result"
    }
   ],
   "source": [
    "atlantic_count_df = duckdb.execute(\"\"\"\n",
    "    SELECT SEASON, COUNT(DISTINCT NAME) AS unique_names\n",
    "    FROM ibtracs.parquet\n",
    "    WHERE\n",
    "        NAME != 'NOT_NAMED' AND\n",
    "        USA_ATCF_ID LIKE 'AL%' AND\n",
    "        SEASON < 2023 AND\n",
    "        DATE_PART('month', ISO_TIME) >= 6 AND\n",
    "        DATE_PART('month', ISO_TIME) <= 11\n",
    "    GROUP BY SEASON;\n",
    "\"\"\").fetchdf()\n",
    "\n",
    "count_plot = atlantic_count_df.hvplot(\"SEASON\", \"unique_names\")\n",
    "\n",
    "slide(\n",
    "    pn.Column(\n",
    "        '''\n",
    "        ## Calculate Atlantic hurricane season count\n",
    "\n",
    "        - Names are unique per season (increments by alphabet)\n",
    "\n",
    "        ```python\n",
    "        atlantic_count_df = duckdb.execute(\"\"\"\n",
    "            SELECT SEASON, COUNT(DISTINCT NAME) AS unique_names\n",
    "            FROM ibtracs.parquet\n",
    "            WHERE\n",
    "                NAME != 'NOT_NAMED' AND\n",
    "                USA_ATCF_ID LIKE 'AL%' AND\n",
    "                SEASON < 2023 AND\n",
    "                DATE_PART('month', ISO_TIME) >= 6 AND\n",
    "                DATE_PART('month', ISO_TIME) <= 11\n",
    "            GROUP BY SEASON;\n",
    "        \"\"\").fetchdf()\n",
    "\n",
    "        atlantic_count_df.hvplot(\"SEASON\", \"unique_names\")\n",
    "        ''',\n",
    "        pn.pane.HoloViews(count_plot)\n",
    "    ).servable()\n",
    ")"
   ]
  },
  {
   "cell_type": "code",
   "execution_count": 12,
   "metadata": {},
   "outputs": [
    {
     "data": {
      "application/vnd.jupyter.widget-view+json": {
       "model_id": "cd9a7a30682145ed8125975e481f5711",
       "version_major": 2,
       "version_minor": 0
      },
      "text/plain": [
       "BokehModel(combine_events=True, render_bundle={'docs_json': {'612d0cb6-3c21-48ee-96cf-c4e499a91326': {'version…"
      ]
     },
     "execution_count": 12,
     "metadata": {},
     "output_type": "execute_result"
    }
   ],
   "source": [
    "nino_df = pd.read_csv('https://raw.githubusercontent.com/ahuang11/oni/master/nino_ml.csv', index_col=0, parse_dates=True)\n",
    "nino_df = nino_df.rename_axis(\"date\").dropna()\n",
    "\n",
    "slide(\n",
    "    pn.Column(\n",
    "        '''\n",
    "        ## Get data relevant to Nino\n",
    "\n",
    "        t300 - depth averaged temps up from 0 to 300m\n",
    "        wwv - warm water volume\n",
    "        u850 - 850 mb trade wind index\n",
    "        *_e - east\n",
    "        *_w - west\n",
    "        *_c - central\n",
    "        *_anom - anomaly\n",
    "        *_norm - standardized\n",
    "\n",
    "        ```python\n",
    "        nino_df = pd.read_csv('https://raw.githubusercontent.com/ahuang11/oni/master/nino_ml.csv', index_col=0, parse_dates=True)\n",
    "        nino_df = nino_df.rename_axis(\"date\").dropna()\n",
    "\n",
    "        display(nino_df.head())\n",
    "        ''',\n",
    "        ends(nino_df),\n",
    "    ).servable()\n",
    ")"
   ]
  },
  {
   "cell_type": "code",
   "execution_count": 13,
   "metadata": {},
   "outputs": [
    {
     "name": "stderr",
     "output_type": "stream",
     "text": [
      "Task exception was never retrieved\n",
      "future: <Task finished name='Task-12' coro=<Callback.process_on_change() done, defined at /Users/ahuang/miniconda3/lib/python3.10/site-packages/holoviews/plotting/bokeh/callbacks.py:322> exception=UnsetValueError(\"figure(id='f2b489ba-f955-41c5-a7c0-5b021f8ebb52', ...).inner_height doesn't have a value set\")>\n",
      "Traceback (most recent call last):\n",
      "  File \"/Users/ahuang/miniconda3/lib/python3.10/site-packages/holoviews/plotting/bokeh/callbacks.py\", line 340, in process_on_change\n",
      "    msg[attr] = self.resolve_attr_spec(path, cb_obj)\n",
      "  File \"/Users/ahuang/miniconda3/lib/python3.10/site-packages/holoviews/plotting/bokeh/callbacks.py\", line 248, in resolve_attr_spec\n",
      "    resolved = getattr(resolved, p, None)\n",
      "  File \"/Users/ahuang/miniconda3/lib/python3.10/site-packages/bokeh/core/property/descriptors.py\", line 283, in __get__\n",
      "    raise UnsetValueError(f\"{obj}.{self.name} doesn't have a value set\")\n",
      "bokeh.core.property.descriptors.UnsetValueError: figure(id='f2b489ba-f955-41c5-a7c0-5b021f8ebb52', ...).inner_height doesn't have a value set\n"
     ]
    },
    {
     "data": {
      "application/vnd.jupyter.widget-view+json": {
       "model_id": "03ea585af90e436abb78c015c4ac4833",
       "version_major": 2,
       "version_minor": 0
      },
      "text/plain": [
       "BokehModel(combine_events=True, render_bundle={'docs_json': {'7d91270c-d869-400d-b449-849858c81afa': {'version…"
      ]
     },
     "execution_count": 13,
     "metadata": {},
     "output_type": "execute_result"
    }
   ],
   "source": [
    "nino_df.to_parquet(\"nino.parquet\")\n",
    "\n",
    "nino_spring_df = duckdb.execute(\n",
    "    \"\"\"\n",
    "    SELECT *, EXTRACT(MONTH FROM date) AS month, EXTRACT(YEAR FROM date) AS year\n",
    "    FROM nino.parquet\n",
    "    WHERE EXTRACT(MONTH FROM date) BETWEEN 1 AND 5;\n",
    "    \"\"\"\n",
    ").fetchdf()\n",
    "\n",
    "slide(\n",
    "    pn.Row(\n",
    "        '''\n",
    "        ## Subset predictors\n",
    "        \n",
    "        - Select January to May (prior to peak season)\n",
    "\n",
    "        ```python\n",
    "        nino_df.to_parquet(\"nino.parquet\")\n",
    "\n",
    "        nino_spring_df = duckdb.execute(\n",
    "            \"\"\"\n",
    "            SELECT *, EXTRACT(MONTH FROM date) AS month, EXTRACT(YEAR FROM date) AS year\n",
    "            FROM nino.parquet\n",
    "            WHERE EXTRACT(MONTH FROM date) BETWEEN 1 AND 5;\n",
    "            \"\"\"\n",
    "        ).fetchdf()\n",
    "\n",
    "        display(nino_spring_df.head())\n",
    "        ''',\n",
    "        pn.Column(\n",
    "            pn.panel(\"diagram.png\", width=500),\n",
    "            ends(nino_spring_df),\n",
    "        )\n",
    "    ).servable()\n",
    ")"
   ]
  },
  {
   "cell_type": "code",
   "execution_count": 14,
   "metadata": {},
   "outputs": [
    {
     "data": {
      "application/vnd.jupyter.widget-view+json": {
       "model_id": "74b1ed84b7a34340a9432add5b4da9c0",
       "version_major": 2,
       "version_minor": 0
      },
      "text/plain": [
       "BokehModel(combine_events=True, render_bundle={'docs_json': {'46e46cc8-130c-4ce3-b380-464098177b2c': {'version…"
      ]
     },
     "execution_count": 14,
     "metadata": {},
     "output_type": "execute_result"
    }
   ],
   "source": [
    "ml_df = (\n",
    "    atlantic_count_df.set_index(\"SEASON\").join(nino_spring_df.set_index(\"year\"))\n",
    ").reset_index(names=[\"year\"])\n",
    "\n",
    "slide(\n",
    "    pn.Column(\n",
    "        '''\n",
    "        ## Combine the two dataframes\n",
    "\n",
    "        - Use year as the primary key\n",
    "\n",
    "        ```python\n",
    "        ml_df = (\n",
    "            atlantic_count_df.set_index(\"SEASON\").join(nino_spring_df.set_index(\"year\"))\n",
    "        ).reset_index(names=[\"year\"])\n",
    "        \n",
    "        display(ml_df.head())\n",
    "        ```\n",
    "        ''',\n",
    "        ends(ml_df),\n",
    "    ).servable()\n",
    ")"
   ]
  },
  {
   "cell_type": "code",
   "execution_count": 15,
   "metadata": {},
   "outputs": [
    {
     "data": {
      "application/vnd.jupyter.widget-view+json": {
       "model_id": "a2a6b7212e754a0baff6296d40183b0f",
       "version_major": 2,
       "version_minor": 0
      },
      "text/plain": [
       "BokehModel(combine_events=True, render_bundle={'docs_json': {'81439d4a-09e1-4b2e-8382-efd1534c670e': {'version…"
      ]
     },
     "execution_count": 15,
     "metadata": {},
     "output_type": "execute_result"
    }
   ],
   "source": [
    "corr_df = (\n",
    "    ml_df.groupby(\"month\")\n",
    "    .corr(numeric_only=True)[\"unique_names\"]\n",
    "    .sort_values()\n",
    "    .rename_axis([\"month\", \"parameter\"])\n",
    ")\n",
    "\n",
    "corr_heatmap = corr_df.hvplot.heatmap(\n",
    "    \"month\",\n",
    "    \"parameter\",\n",
    "    \"unique_names\",\n",
    "    cmap=\"RdBu_r\",\n",
    "    colorbar=True,\n",
    "    symmetric=True,\n",
    "    height=800,\n",
    ").opts(color_levels=12)\n",
    "\n",
    "slide(\n",
    "    pn.Row(\n",
    "        '''\n",
    "        # Explore features\n",
    "\n",
    "        - Feature selection helps performance\n",
    "        - Select the ones with highest correlation\n",
    "        - Nino indices are not extremely correlated\n",
    "        - Zonal winds at 850mb are quite correlated\n",
    "\n",
    "        ```python\n",
    "        corr_df = (\n",
    "            ml_df.groupby(\"month\")\n",
    "            .corr(numeric_only=True)[\"unique_names\"]\n",
    "            .sort_values()\n",
    "            .rename_axis([\"month\", \"parameter\"])\n",
    "        )\n",
    "        corr_df.hvplot.heatmap(\n",
    "            \"month\",\n",
    "            \"parameter\",\n",
    "            \"unique_names\",\n",
    "            cmap=\"RdBu_r\",\n",
    "            colorbar=True,\n",
    "            symmetric=True,\n",
    "            height=800,\n",
    "        ).opts(color_levels=12)\n",
    "        ```\n",
    "        ''',\n",
    "        pn.panel(corr_heatmap)\n",
    "    ).servable()\n",
    ")"
   ]
  },
  {
   "cell_type": "code",
   "execution_count": 16,
   "metadata": {},
   "outputs": [
    {
     "data": {
      "application/vnd.jupyter.widget-view+json": {
       "model_id": "10585dabb8dd4885a2f5800a6414fb7c",
       "version_major": 2,
       "version_minor": 0
      },
      "text/plain": [
       "BokehModel(combine_events=True, render_bundle={'docs_json': {'bdcef2f3-264e-4f74-af0c-a1310db30dfc': {'version…"
      ]
     },
     "execution_count": 16,
     "metadata": {},
     "output_type": "execute_result"
    }
   ],
   "source": [
    "ml_month_dfs = []\n",
    "\n",
    "for month in range(4, 6):\n",
    "    ml_month_df = ml_df.loc[ml_df[\"month\"] == month].drop(columns=[\"month\"])\n",
    "    ml_month_df = ml_month_df.set_index([\"year\", \"unique_names\"])\n",
    "    ml_month_df.columns = ml_month_df.columns + f\"_m{month}\"\n",
    "    ml_month_dfs.append(ml_month_df)\n",
    "\n",
    "ml_month_df = pd.concat(ml_month_dfs, axis=1).reset_index()\n",
    "\n",
    "slide(\n",
    "    pn.Column(\n",
    "        '''\n",
    "        ## Re-orient the data\n",
    "\n",
    "        - Convert months into separate predictor columns\n",
    "\n",
    "        ```python\n",
    "        ml_month_dfs = []\n",
    "        for month in range(4, 6):\n",
    "            ml_month_df = ml_df.loc[ml_df[\"month\"] == month].drop(columns=[\"month\"])\n",
    "            ml_month_df = ml_month_df.set_index([\"year\", \"unique_names\"])\n",
    "            ml_month_df.columns = ml_month_df.columns + f\"_m{month}\"\n",
    "            ml_month_dfs.append(ml_month_df)\n",
    "\n",
    "        ml_month_df = pd.concat(ml_month_dfs, axis=1).reset_index()\n",
    "        ```\n",
    "        ''',\n",
    "        ends(ml_month_df),\n",
    "    ).servable()\n",
    ")"
   ]
  },
  {
   "cell_type": "code",
   "execution_count": 17,
   "metadata": {},
   "outputs": [
    {
     "data": {
      "application/vnd.jupyter.widget-view+json": {
       "model_id": "c9301e2bcb05428291cb78146ba480ae",
       "version_major": 2,
       "version_minor": 0
      },
      "text/plain": [
       "BokehModel(combine_events=True, render_bundle={'docs_json': {'8fba02c9-88c0-487b-8374-52ef424f75a2': {'version…"
      ]
     },
     "execution_count": 17,
     "metadata": {},
     "output_type": "execute_result"
    }
   ],
   "source": [
    "ml_param_df = ml_month_df.filter(\n",
    "    regex=\"t300_w|u850_c|olr|t300_e|wwv_e|year|month|unique_names\"\n",
    ")\n",
    "\n",
    "slide(\n",
    "    pn.Column(\n",
    "        '''\n",
    "        ## Subset the best features\n",
    "\n",
    "        - Rather than manually typing each specific column name, filter by regex\n",
    "        ```python\n",
    "        ml_param_df = ml_month_df.filter(\n",
    "            regex=\"t300_w|u850_c|olr|t300_e|wwv_e|year|month|unique_names\"\n",
    "        )\n",
    "\n",
    "        display(ml_param_df.head())\n",
    "        ```\n",
    "        ''',\n",
    "        ends(ml_param_df),\n",
    "    ).servable()\n",
    ")"
   ]
  },
  {
   "cell_type": "code",
   "execution_count": 18,
   "metadata": {},
   "outputs": [
    {
     "data": {
      "application/vnd.jupyter.widget-view+json": {
       "model_id": "c60b61471d024f4d8703cd6467ce1e43",
       "version_major": 2,
       "version_minor": 0
      },
      "text/plain": [
       "BokehModel(combine_events=True, render_bundle={'docs_json': {'a6331c80-e20c-472a-8797-13afb9c2aa51': {'version…"
      ]
     },
     "execution_count": 18,
     "metadata": {},
     "output_type": "execute_result"
    }
   ],
   "source": [
    "import statsmodels.api as sm\n",
    "\n",
    "def run_model(model, X, y, train_index, val_index, **model_kwargs):\n",
    "    X_train, X_val = X.iloc[train_index], X.iloc[val_index]\n",
    "    y_train, y_val = y.iloc[train_index], y.iloc[val_index]\n",
    "\n",
    "    X_train = sm.add_constant(X_train)\n",
    "    model = model(y_train, X_train, **model_kwargs)\n",
    "    fitted_model = model.fit()\n",
    "\n",
    "    X_val = sm.add_constant(X_val)\n",
    "    y_pred_val = fitted_model.predict(X_val)\n",
    "\n",
    "    val_df = pd.DataFrame(\n",
    "        {\"year\": X_val[\"year\"], \"actual\": y_val, \"prediction\": y_pred_val}\n",
    "    ).sort_values(\"year\")\n",
    "    return val_df\n",
    "\n",
    "def score_output(val_df):\n",
    "    corr = val_df[\"actual\"].corr(val_df[\"prediction\"])\n",
    "    rmse = ((val_df[\"actual\"] - val_df[\"prediction\"]) ** 2).mean() ** 0.5\n",
    "    return pd.Series([corr, rmse], index=[\"corr\", \"rmse\"])\n",
    "\n",
    "slide(\n",
    "    pn.Row(\n",
    "        '''\n",
    "        ## Create reusable ML functions\n",
    "\n",
    "        - Splits dataset into training and validation\n",
    "        - Fits the model\n",
    "        - Makes prediction\n",
    "        - Stores output for scoring\n",
    "        ''',\n",
    "        '''\n",
    "        ```python\n",
    "        import statsmodels.api as sm\n",
    "\n",
    "        def run_model(model, X, y, train_index, val_index, **model_kwargs):\n",
    "            X_train, X_val = X.iloc[train_index], X.iloc[val_index]\n",
    "            y_train, y_val = y.iloc[train_index], y.iloc[val_index]\n",
    "\n",
    "            X_train = sm.add_constant(X_train)\n",
    "            model = model(y_train, X_train, **model_kwargs)\n",
    "            fitted_model = model.fit()\n",
    "\n",
    "            X_val = sm.add_constant(X_val)\n",
    "            y_pred_val = fitted_model.predict(X_val)\n",
    "\n",
    "            val_df = pd.DataFrame(\n",
    "                {\"year\": X_val[\"year\"], \"actual\": y_val, \"prediction\": y_pred_val}\n",
    "            ).sort_values(\"year\")\n",
    "            return val_df\n",
    "\n",
    "\n",
    "        def score_output(val_df):\n",
    "            corr = val_df[\"actual\"].corr(val_df[\"prediction\"])\n",
    "            rmse = ((val_df[\"actual\"] - val_df[\"prediction\"]) ** 2).mean() ** 0.5\n",
    "            return pd.Series([corr, rmse], index=[\"corr\", \"rmse\"])\n",
    "        ```\n",
    "        ''',\n",
    "    ).servable()\n",
    ")"
   ]
  },
  {
   "cell_type": "code",
   "execution_count": 19,
   "metadata": {},
   "outputs": [
    {
     "data": {
      "application/vnd.jupyter.widget-view+json": {
       "model_id": "69e75a2a02e0410c9e6d51cc57071952",
       "version_major": 2,
       "version_minor": 0
      },
      "text/plain": [
       "BokehModel(combine_events=True, render_bundle={'docs_json': {'d8ead61c-a1a6-44d7-b46d-bc95e8466706': {'version…"
      ]
     },
     "execution_count": 19,
     "metadata": {},
     "output_type": "execute_result"
    }
   ],
   "source": [
    "from sklearn.model_selection import KFold\n",
    "\n",
    "X = ml_param_df.drop(columns=[\"unique_names\"])\n",
    "y = ml_param_df[\"unique_names\"]\n",
    "\n",
    "num_folds = 4  # Adjust the number of folds as needed\n",
    "kf = KFold(n_splits=num_folds, shuffle=True, random_state=42)\n",
    "val_dfs = []\n",
    "for i, (train_index, val_index) in enumerate(kf.split(X)):\n",
    "    val_df = run_model(sm.OLS, X, y, train_index, val_index)\n",
    "    val_df[\"fold\"] = i\n",
    "    val_dfs.append(val_df)\n",
    "\n",
    "val_df = pd.concat(val_dfs).sort_values(\"year\")\n",
    "\n",
    "score_df = (val_df.groupby(\"fold\").apply(score_output))\n",
    "val_plot = val_df.hvplot(\"year\", [\"actual\", \"prediction\"], title=\"With Feature Selection\")\n",
    "\n",
    "\n",
    "slide(\n",
    "    pn.Column(\n",
    "        '''\n",
    "        # Run linear regression and score\n",
    "\n",
    "        - Split dataset into X (predictors) and Y (goal)\n",
    "        - Run K-Fold for reliability and preventing overfitting\n",
    "\n",
    "        ```python\n",
    "        from sklearn.model_selection import KFold\n",
    "\n",
    "        X = ml_param_df.drop(columns=[\"unique_names\"])\n",
    "        y = ml_param_df[\"unique_names\"]\n",
    "\n",
    "        num_folds = 4  # Adjust the number of folds as needed\n",
    "        kf = KFold(n_splits=num_folds, shuffle=True, random_state=42)\n",
    "        val_dfs = []\n",
    "        for i, (train_index, val_index) in enumerate(kf.split(X)):\n",
    "            val_df = run_model(sm.OLS, X, y, train_index, val_index)\n",
    "            val_df[\"fold\"] = i\n",
    "            val_dfs.append(val_df)\n",
    "\n",
    "        val_df = pd.concat(val_dfs).sort_values(\"year\")\n",
    "\n",
    "        score_df = (val_df.groupby(\"fold\").apply(score_output))\n",
    "        val_plot = val_df.hvplot(\"year\", [\"actual\", \"prediction\"])\n",
    "        display(val_plot, score_df)\n",
    "        ```\n",
    "        ''',\n",
    "    ).servable()\n",
    ")\n",
    "\n",
    "slide(\n",
    "    pn.Row(\n",
    "        val_plot, score_df,\n",
    "    ).servable()\n",
    ")"
   ]
  },
  {
   "cell_type": "code",
   "execution_count": 20,
   "metadata": {},
   "outputs": [
    {
     "data": {
      "application/vnd.jupyter.widget-view+json": {
       "model_id": "94e82b89663844dda96b27024a065694",
       "version_major": 2,
       "version_minor": 0
      },
      "text/plain": [
       "BokehModel(combine_events=True, render_bundle={'docs_json': {'8b8c0d98-8f66-487e-8a72-c4510ab62703': {'version…"
      ]
     },
     "execution_count": 20,
     "metadata": {},
     "output_type": "execute_result"
    }
   ],
   "source": [
    "X = ml_month_df.drop(columns=[\"unique_names\"]).select_dtypes(\"number\")\n",
    "y = ml_month_df[\"unique_names\"]\n",
    "\n",
    "num_folds = 4  # Adjust the number of folds as needed\n",
    "kf = KFold(n_splits=num_folds, shuffle=True, random_state=42)\n",
    "val_dfs = []\n",
    "for i, (train_index, val_index) in enumerate(kf.split(X)):\n",
    "    val_df = run_model(sm.OLS, X, y, train_index, val_index)\n",
    "    val_df[\"fold\"] = i\n",
    "    val_dfs.append(val_df)\n",
    "\n",
    "val_df = pd.concat(val_dfs).sort_values(\"year\")\n",
    "\n",
    "new_score_df = (val_df.groupby(\"fold\").apply(score_output))\n",
    "new_val_plot = val_df.hvplot(\"year\", [\"actual\", \"prediction\"], title=\"No Feature Selection\")\n",
    "\n",
    "\n",
    "slide(\n",
    "    pn.Column(\n",
    "        '''\n",
    "        ## Re-run and score w/o feature selection\n",
    "\n",
    "        - Other features are noise\n",
    "        - This lowers the skill score\n",
    "\n",
    "        ```python\n",
    "        X = ml_month_df.drop(columns=[\"unique_names\"]).select_dtypes(\"number\")\n",
    "        y = ml_month_df[\"unique_names\"]\n",
    "\n",
    "        num_folds = 4  # Adjust the number of folds as needed\n",
    "        kf = KFold(n_splits=num_folds, shuffle=True, random_state=42)\n",
    "        val_dfs = []\n",
    "        for i, (train_index, val_index) in enumerate(kf.split(X)):\n",
    "            val_df = run_model(sm.OLS, X, y, train_index, val_index)\n",
    "            val_df[\"fold\"] = i\n",
    "            val_dfs.append(val_df)\n",
    "\n",
    "        val_df = pd.concat(val_dfs).sort_values(\"year\")\n",
    "\n",
    "        score_df = (val_df.groupby(\"fold\").apply(score_output))\n",
    "        val_plot = val_df.hvplot(\"year\", [\"actual\", \"prediction\"])\n",
    "        display(val_plot, score_df)\n",
    "        ```\n",
    "        ''',\n",
    "    ).servable()\n",
    ")\n",
    "\n",
    "slide(\n",
    "    pn.Column(\n",
    "        pn.Row(\n",
    "            val_plot, score_df,\n",
    "        ),\n",
    "        pn.Row(\n",
    "            new_val_plot, new_score_df,\n",
    "        )\n",
    "    ).servable()\n",
    ")"
   ]
  },
  {
   "cell_type": "code",
   "execution_count": 21,
   "metadata": {},
   "outputs": [
    {
     "data": {
      "application/vnd.jupyter.widget-view+json": {
       "model_id": "cfa432c9e8924d5eba98e772701002d7",
       "version_major": 2,
       "version_minor": 0
      },
      "text/plain": [
       "BokehModel(combine_events=True, render_bundle={'docs_json': {'c1eb69f1-13e9-4e56-82c8-68b32bc2c288': {'version…"
      ]
     },
     "execution_count": 21,
     "metadata": {},
     "output_type": "execute_result"
    }
   ],
   "source": [
    "slide(\n",
    "    pn.Row(\n",
    "        '''\n",
    "        ## Ideas to try\n",
    "\n",
    "        - Different models (deep learning?)\n",
    "        - Using other predictors (other oscillations)\n",
    "        - Feature engineering (previous year's count)\n",
    "        ''',\n",
    "    ).servable()\n",
    ")"
   ]
  }
 ],
 "metadata": {
  "kernelspec": {
   "display_name": "Python 3 (ipykernel)",
   "language": "python",
   "name": "python3"
  },
  "language_info": {
   "codemirror_mode": {
    "name": "ipython",
    "version": 3
   },
   "file_extension": ".py",
   "mimetype": "text/x-python",
   "name": "python",
   "nbconvert_exporter": "python",
   "pygments_lexer": "ipython3",
   "version": "3.10.11"
  }
 },
 "nbformat": 4,
 "nbformat_minor": 2
}
