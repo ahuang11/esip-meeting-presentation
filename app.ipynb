{
 "cells": [
  {
   "cell_type": "code",
   "execution_count": 249,
   "metadata": {},
   "outputs": [
    {
     "data": {
      "application/javascript": "(function(root) {\n  function now() {\n    return new Date();\n  }\n\n  var force = true;\n  var py_version = '3.1.1'.replace('rc', '-rc.').replace('.dev', '-dev.');\n  var is_dev = py_version.indexOf(\"+\") !== -1 || py_version.indexOf(\"-\") !== -1;\n  var reloading = true;\n  var Bokeh = root.Bokeh;\n  var bokeh_loaded = Bokeh != null && (Bokeh.version === py_version || (Bokeh.versions !== undefined && Bokeh.versions.has(py_version)));\n\n  if (typeof (root._bokeh_timeout) === \"undefined\" || force) {\n    root._bokeh_timeout = Date.now() + 5000;\n    root._bokeh_failed_load = false;\n  }\n\n  function run_callbacks() {\n    try {\n      root._bokeh_onload_callbacks.forEach(function(callback) {\n        if (callback != null)\n          callback();\n      });\n    } finally {\n      delete root._bokeh_onload_callbacks;\n    }\n    console.debug(\"Bokeh: all callbacks have finished\");\n  }\n\n  function load_libs(css_urls, js_urls, js_modules, js_exports, callback) {\n    if (css_urls == null) css_urls = [];\n    if (js_urls == null) js_urls = [];\n    if (js_modules == null) js_modules = [];\n    if (js_exports == null) js_exports = {};\n\n    root._bokeh_onload_callbacks.push(callback);\n\n    if (root._bokeh_is_loading > 0) {\n      console.debug(\"Bokeh: BokehJS is being loaded, scheduling callback at\", now());\n      return null;\n    }\n    if (js_urls.length === 0 && js_modules.length === 0 && Object.keys(js_exports).length === 0) {\n      run_callbacks();\n      return null;\n    }\n    if (!reloading) {\n      console.debug(\"Bokeh: BokehJS not loaded, scheduling load and callback at\", now());\n    }\n\n    function on_load() {\n      root._bokeh_is_loading--;\n      if (root._bokeh_is_loading === 0) {\n        console.debug(\"Bokeh: all BokehJS libraries/stylesheets loaded\");\n        run_callbacks()\n      }\n    }\n    window._bokeh_on_load = on_load\n\n    function on_error() {\n      console.error(\"failed to load \" + url);\n    }\n\n    var skip = [];\n    if (window.requirejs) {\n      window.requirejs.config({'packages': {}, 'paths': {'jspanel': 'https://cdn.jsdelivr.net/npm/jspanel4@4.12.0/dist/jspanel', 'jspanel-modal': 'https://cdn.jsdelivr.net/npm/jspanel4@4.12.0/dist/extensions/modal/jspanel.modal', 'jspanel-tooltip': 'https://cdn.jsdelivr.net/npm/jspanel4@4.12.0/dist/extensions/tooltip/jspanel.tooltip', 'jspanel-hint': 'https://cdn.jsdelivr.net/npm/jspanel4@4.12.0/dist/extensions/hint/jspanel.hint', 'jspanel-layout': 'https://cdn.jsdelivr.net/npm/jspanel4@4.12.0/dist/extensions/layout/jspanel.layout', 'jspanel-contextmenu': 'https://cdn.jsdelivr.net/npm/jspanel4@4.12.0/dist/extensions/contextmenu/jspanel.contextmenu', 'jspanel-dock': 'https://cdn.jsdelivr.net/npm/jspanel4@4.12.0/dist/extensions/dock/jspanel.dock', 'gridstack': 'https://cdn.jsdelivr.net/npm/gridstack@7.2.3/dist/gridstack-all', 'notyf': 'https://cdn.jsdelivr.net/npm/notyf@3/notyf.min'}, 'shim': {'jspanel': {'exports': 'jsPanel'}, 'gridstack': {'exports': 'GridStack'}}});\n      require([\"jspanel\"], function(jsPanel) {\n\twindow.jsPanel = jsPanel\n\ton_load()\n      })\n      require([\"jspanel-modal\"], function() {\n\ton_load()\n      })\n      require([\"jspanel-tooltip\"], function() {\n\ton_load()\n      })\n      require([\"jspanel-hint\"], function() {\n\ton_load()\n      })\n      require([\"jspanel-layout\"], function() {\n\ton_load()\n      })\n      require([\"jspanel-contextmenu\"], function() {\n\ton_load()\n      })\n      require([\"jspanel-dock\"], function() {\n\ton_load()\n      })\n      require([\"gridstack\"], function(GridStack) {\n\twindow.GridStack = GridStack\n\ton_load()\n      })\n      require([\"notyf\"], function() {\n\ton_load()\n      })\n      root._bokeh_is_loading = css_urls.length + 9;\n    } else {\n      root._bokeh_is_loading = css_urls.length + js_urls.length + js_modules.length + Object.keys(js_exports).length;\n    }\n\n    var existing_stylesheets = []\n    var links = document.getElementsByTagName('link')\n    for (var i = 0; i < links.length; i++) {\n      var link = links[i]\n      if (link.href != null) {\n\texisting_stylesheets.push(link.href)\n      }\n    }\n    for (var i = 0; i < css_urls.length; i++) {\n      var url = css_urls[i];\n      if (existing_stylesheets.indexOf(url) !== -1) {\n\ton_load()\n\tcontinue;\n      }\n      const element = document.createElement(\"link\");\n      element.onload = on_load;\n      element.onerror = on_error;\n      element.rel = \"stylesheet\";\n      element.type = \"text/css\";\n      element.href = url;\n      console.debug(\"Bokeh: injecting link tag for BokehJS stylesheet: \", url);\n      document.body.appendChild(element);\n    }    if (((window['jsPanel'] !== undefined) && (!(window['jsPanel'] instanceof HTMLElement))) || window.requirejs) {\n      var urls = ['https://cdn.holoviz.org/panel/1.1.1/dist/bundled/floatpanel/jspanel4@4.12.0/dist/jspanel.js', 'https://cdn.holoviz.org/panel/1.1.1/dist/bundled/floatpanel/jspanel4@4.12.0/dist/extensions/modal/jspanel.modal.js', 'https://cdn.holoviz.org/panel/1.1.1/dist/bundled/floatpanel/jspanel4@4.12.0/dist/extensions/tooltip/jspanel.tooltip.js', 'https://cdn.holoviz.org/panel/1.1.1/dist/bundled/floatpanel/jspanel4@4.12.0/dist/extensions/hint/jspanel.hint.js', 'https://cdn.holoviz.org/panel/1.1.1/dist/bundled/floatpanel/jspanel4@4.12.0/dist/extensions/layout/jspanel.layout.js', 'https://cdn.holoviz.org/panel/1.1.1/dist/bundled/floatpanel/jspanel4@4.12.0/dist/extensions/contextmenu/jspanel.contextmenu.js', 'https://cdn.holoviz.org/panel/1.1.1/dist/bundled/floatpanel/jspanel4@4.12.0/dist/extensions/dock/jspanel.dock.js'];\n      for (var i = 0; i < urls.length; i++) {\n        skip.push(urls[i])\n      }\n    }    if (((window['GridStack'] !== undefined) && (!(window['GridStack'] instanceof HTMLElement))) || window.requirejs) {\n      var urls = ['https://cdn.holoviz.org/panel/1.1.1/dist/bundled/gridstack/gridstack@7.2.3/dist/gridstack-all.js'];\n      for (var i = 0; i < urls.length; i++) {\n        skip.push(urls[i])\n      }\n    }    if (((window['Notyf'] !== undefined) && (!(window['Notyf'] instanceof HTMLElement))) || window.requirejs) {\n      var urls = ['https://cdn.holoviz.org/panel/1.1.1/dist/bundled/notificationarea/notyf@3/notyf.min.js'];\n      for (var i = 0; i < urls.length; i++) {\n        skip.push(urls[i])\n      }\n    }    var existing_scripts = []\n    var scripts = document.getElementsByTagName('script')\n    for (var i = 0; i < scripts.length; i++) {\n      var script = scripts[i]\n      if (script.src != null) {\n\texisting_scripts.push(script.src)\n      }\n    }\n    for (var i = 0; i < js_urls.length; i++) {\n      var url = js_urls[i];\n      if (skip.indexOf(url) !== -1 || existing_scripts.indexOf(url) !== -1) {\n\tif (!window.requirejs) {\n\t  on_load();\n\t}\n\tcontinue;\n      }\n      var element = document.createElement('script');\n      element.onload = on_load;\n      element.onerror = on_error;\n      element.async = false;\n      element.src = url;\n      console.debug(\"Bokeh: injecting script tag for BokehJS library: \", url);\n      document.head.appendChild(element);\n    }\n    for (var i = 0; i < js_modules.length; i++) {\n      var url = js_modules[i];\n      if (skip.indexOf(url) !== -1 || existing_scripts.indexOf(url) !== -1) {\n\tif (!window.requirejs) {\n\t  on_load();\n\t}\n\tcontinue;\n      }\n      var element = document.createElement('script');\n      element.onload = on_load;\n      element.onerror = on_error;\n      element.async = false;\n      element.src = url;\n      element.type = \"module\";\n      console.debug(\"Bokeh: injecting script tag for BokehJS library: \", url);\n      document.head.appendChild(element);\n    }\n    for (const name in js_exports) {\n      var url = js_exports[name];\n      if (skip.indexOf(url) >= 0 || root[name] != null) {\n\tif (!window.requirejs) {\n\t  on_load();\n\t}\n\tcontinue;\n      }\n      var element = document.createElement('script');\n      element.onerror = on_error;\n      element.async = false;\n      element.type = \"module\";\n      console.debug(\"Bokeh: injecting script tag for BokehJS library: \", url);\n      element.textContent = `\n      import ${name} from \"${url}\"\n      window.${name} = ${name}\n      window._bokeh_on_load()\n      `\n      document.head.appendChild(element);\n    }\n    if (!js_urls.length && !js_modules.length) {\n      on_load()\n    }\n  };\n\n  function inject_raw_css(css) {\n    const element = document.createElement(\"style\");\n    element.appendChild(document.createTextNode(css));\n    document.body.appendChild(element);\n  }\n\n  var js_urls = [\"https://cdn.jsdelivr.net/npm/@holoviz/geoviews@1.10.0/dist/geoviews.min.js\"];\n  var js_modules = [];\n  var js_exports = {};\n  var css_urls = [\"https://fonts.googleapis.com/css?family=Inter\"];\n  var inline_js = [    function(Bokeh) {\n      inject_raw_css(\"html, body { font-family: \\\"Inter\\\",sans-serif; }\");\n    },    function(Bokeh) {\n      inject_raw_css(\":root {--r-background-color: rgb(16, 39, 47) }\");\n    },    function(Bokeh) {\n      inject_raw_css(\"h1 { text-align: left; font-size: 3em; }\");\n    },    function(Bokeh) {\n      inject_raw_css(\"h2 { text-align: left; font-size: 3em; }\");\n    },    function(Bokeh) {\n      inject_raw_css(\"ul { text-align: left; font-size: 1.5em; }\");\n    },    function(Bokeh) {\n      inject_raw_css(\"p { text-align: left; font-size: 2em; }\");\n    },    function(Bokeh) {\n      inject_raw_css(\"pre { text-align: left; }\");\n    },    function(Bokeh) {\n      inject_raw_css(\"ul { text-align: left; font-size: 2em; }\");\n    },    function(Bokeh) {\n      Bokeh.set_log_level(\"info\");\n    },\nfunction(Bokeh) {} // ensure no trailing comma for IE\n  ];\n\n  function run_inline_js() {\n    if ((root.Bokeh !== undefined) || (force === true)) {\n      for (var i = 0; i < inline_js.length; i++) {\n        inline_js[i].call(root, root.Bokeh);\n      }\n      // Cache old bokeh versions\n      if (Bokeh != undefined && !reloading) {\n\tvar NewBokeh = root.Bokeh;\n\tif (Bokeh.versions === undefined) {\n\t  Bokeh.versions = new Map();\n\t}\n\tif (NewBokeh.version !== Bokeh.version) {\n\t  Bokeh.versions.set(NewBokeh.version, NewBokeh)\n\t}\n\troot.Bokeh = Bokeh;\n      }} else if (Date.now() < root._bokeh_timeout) {\n      setTimeout(run_inline_js, 100);\n    } else if (!root._bokeh_failed_load) {\n      console.log(\"Bokeh: BokehJS failed to load within specified timeout.\");\n      root._bokeh_failed_load = true;\n    }\n    root._bokeh_is_initializing = false\n  }\n\n  function load_or_wait() {\n    // Implement a backoff loop that tries to ensure we do not load multiple\n    // versions of Bokeh and its dependencies at the same time.\n    // In recent versions we use the root._bokeh_is_initializing flag\n    // to determine whether there is an ongoing attempt to initialize\n    // bokeh, however for backward compatibility we also try to ensure\n    // that we do not start loading a newer (Panel>=1.0 and Bokeh>3) version\n    // before older versions are fully initialized.\n    if (root._bokeh_is_initializing && Date.now() > root._bokeh_timeout) {\n      root._bokeh_is_initializing = false;\n      root._bokeh_onload_callbacks = undefined;\n      console.log(\"Bokeh: BokehJS was loaded multiple times but one version failed to initialize.\");\n      load_or_wait();\n    } else if (root._bokeh_is_initializing || (typeof root._bokeh_is_initializing === \"undefined\" && root._bokeh_onload_callbacks !== undefined)) {\n      setTimeout(load_or_wait, 100);\n    } else {\n      Bokeh = root.Bokeh;\n      bokeh_loaded = Bokeh != null && (Bokeh.version === py_version || (Bokeh.versions !== undefined && Bokeh.versions.has(py_version)));\n      root._bokeh_is_initializing = true\n      root._bokeh_onload_callbacks = []\n      if (!reloading && (!bokeh_loaded || is_dev)) {\n\troot.Bokeh = undefined;\n      }\n      load_libs(css_urls, js_urls, js_modules, js_exports, function() {\n\tconsole.debug(\"Bokeh: BokehJS plotting callback run at\", now());\n\trun_inline_js();\n      });\n    }\n  }\n  // Give older versions of the autoload script a head-start to ensure\n  // they initialize before we start loading newer version.\n  setTimeout(load_or_wait, 100)\n}(window));",
      "application/vnd.holoviews_load.v0+json": ""
     },
     "metadata": {},
     "output_type": "display_data"
    },
    {
     "data": {
      "application/javascript": "\nif ((window.PyViz === undefined) || (window.PyViz instanceof HTMLElement)) {\n  window.PyViz = {comms: {}, comm_status:{}, kernels:{}, receivers: {}, plot_index: []}\n}\n\n\n    function JupyterCommManager() {\n    }\n\n    JupyterCommManager.prototype.register_target = function(plot_id, comm_id, msg_handler) {\n      if (window.comm_manager || ((window.Jupyter !== undefined) && (Jupyter.notebook.kernel != null))) {\n        var comm_manager = window.comm_manager || Jupyter.notebook.kernel.comm_manager;\n        comm_manager.register_target(comm_id, function(comm) {\n          comm.on_msg(msg_handler);\n        });\n      } else if ((plot_id in window.PyViz.kernels) && (window.PyViz.kernels[plot_id])) {\n        window.PyViz.kernels[plot_id].registerCommTarget(comm_id, function(comm) {\n          comm.onMsg = msg_handler;\n        });\n      } else if (typeof google != 'undefined' && google.colab.kernel != null) {\n        google.colab.kernel.comms.registerTarget(comm_id, (comm) => {\n          var messages = comm.messages[Symbol.asyncIterator]();\n          function processIteratorResult(result) {\n            var message = result.value;\n            console.log(message)\n            var content = {data: message.data, comm_id};\n            var buffers = []\n            for (var buffer of message.buffers || []) {\n              buffers.push(new DataView(buffer))\n            }\n            var metadata = message.metadata || {};\n            var msg = {content, buffers, metadata}\n            msg_handler(msg);\n            return messages.next().then(processIteratorResult);\n          }\n          return messages.next().then(processIteratorResult);\n        })\n      }\n    }\n\n    JupyterCommManager.prototype.get_client_comm = function(plot_id, comm_id, msg_handler) {\n      if (comm_id in window.PyViz.comms) {\n        return window.PyViz.comms[comm_id];\n      } else if (window.comm_manager || ((window.Jupyter !== undefined) && (Jupyter.notebook.kernel != null))) {\n        var comm_manager = window.comm_manager || Jupyter.notebook.kernel.comm_manager;\n        var comm = comm_manager.new_comm(comm_id, {}, {}, {}, comm_id);\n        if (msg_handler) {\n          comm.on_msg(msg_handler);\n        }\n      } else if ((plot_id in window.PyViz.kernels) && (window.PyViz.kernels[plot_id])) {\n        var comm = window.PyViz.kernels[plot_id].connectToComm(comm_id);\n        comm.open();\n        if (msg_handler) {\n          comm.onMsg = msg_handler;\n        }\n      } else if (typeof google != 'undefined' && google.colab.kernel != null) {\n        var comm_promise = google.colab.kernel.comms.open(comm_id)\n        comm_promise.then((comm) => {\n          window.PyViz.comms[comm_id] = comm;\n          if (msg_handler) {\n            var messages = comm.messages[Symbol.asyncIterator]();\n            function processIteratorResult(result) {\n              var message = result.value;\n              var content = {data: message.data};\n              var metadata = message.metadata || {comm_id};\n              var msg = {content, metadata}\n              msg_handler(msg);\n              return messages.next().then(processIteratorResult);\n            }\n            return messages.next().then(processIteratorResult);\n          }\n        }) \n        var sendClosure = (data, metadata, buffers, disposeOnDone) => {\n          return comm_promise.then((comm) => {\n            comm.send(data, metadata, buffers, disposeOnDone);\n          });\n        };\n        var comm = {\n          send: sendClosure\n        };\n      }\n      window.PyViz.comms[comm_id] = comm;\n      return comm;\n    }\n    window.PyViz.comm_manager = new JupyterCommManager();\n    \n\n\nvar JS_MIME_TYPE = 'application/javascript';\nvar HTML_MIME_TYPE = 'text/html';\nvar EXEC_MIME_TYPE = 'application/vnd.holoviews_exec.v0+json';\nvar CLASS_NAME = 'output';\n\n/**\n * Render data to the DOM node\n */\nfunction render(props, node) {\n  var div = document.createElement(\"div\");\n  var script = document.createElement(\"script\");\n  node.appendChild(div);\n  node.appendChild(script);\n}\n\n/**\n * Handle when a new output is added\n */\nfunction handle_add_output(event, handle) {\n  var output_area = handle.output_area;\n  var output = handle.output;\n  if ((output.data == undefined) || (!output.data.hasOwnProperty(EXEC_MIME_TYPE))) {\n    return\n  }\n  var id = output.metadata[EXEC_MIME_TYPE][\"id\"];\n  var toinsert = output_area.element.find(\".\" + CLASS_NAME.split(' ')[0]);\n  if (id !== undefined) {\n    var nchildren = toinsert.length;\n    var html_node = toinsert[nchildren-1].children[0];\n    html_node.innerHTML = output.data[HTML_MIME_TYPE];\n    var scripts = [];\n    var nodelist = html_node.querySelectorAll(\"script\");\n    for (var i in nodelist) {\n      if (nodelist.hasOwnProperty(i)) {\n        scripts.push(nodelist[i])\n      }\n    }\n\n    scripts.forEach( function (oldScript) {\n      var newScript = document.createElement(\"script\");\n      var attrs = [];\n      var nodemap = oldScript.attributes;\n      for (var j in nodemap) {\n        if (nodemap.hasOwnProperty(j)) {\n          attrs.push(nodemap[j])\n        }\n      }\n      attrs.forEach(function(attr) { newScript.setAttribute(attr.name, attr.value) });\n      newScript.appendChild(document.createTextNode(oldScript.innerHTML));\n      oldScript.parentNode.replaceChild(newScript, oldScript);\n    });\n    if (JS_MIME_TYPE in output.data) {\n      toinsert[nchildren-1].children[1].textContent = output.data[JS_MIME_TYPE];\n    }\n    output_area._hv_plot_id = id;\n    if ((window.Bokeh !== undefined) && (id in Bokeh.index)) {\n      window.PyViz.plot_index[id] = Bokeh.index[id];\n    } else {\n      window.PyViz.plot_index[id] = null;\n    }\n  } else if (output.metadata[EXEC_MIME_TYPE][\"server_id\"] !== undefined) {\n    var bk_div = document.createElement(\"div\");\n    bk_div.innerHTML = output.data[HTML_MIME_TYPE];\n    var script_attrs = bk_div.children[0].attributes;\n    for (var i = 0; i < script_attrs.length; i++) {\n      toinsert[toinsert.length - 1].childNodes[1].setAttribute(script_attrs[i].name, script_attrs[i].value);\n    }\n    // store reference to server id on output_area\n    output_area._bokeh_server_id = output.metadata[EXEC_MIME_TYPE][\"server_id\"];\n  }\n}\n\n/**\n * Handle when an output is cleared or removed\n */\nfunction handle_clear_output(event, handle) {\n  var id = handle.cell.output_area._hv_plot_id;\n  var server_id = handle.cell.output_area._bokeh_server_id;\n  if (((id === undefined) || !(id in PyViz.plot_index)) && (server_id !== undefined)) { return; }\n  var comm = window.PyViz.comm_manager.get_client_comm(\"hv-extension-comm\", \"hv-extension-comm\", function () {});\n  if (server_id !== null) {\n    comm.send({event_type: 'server_delete', 'id': server_id});\n    return;\n  } else if (comm !== null) {\n    comm.send({event_type: 'delete', 'id': id});\n  }\n  delete PyViz.plot_index[id];\n  if ((window.Bokeh !== undefined) & (id in window.Bokeh.index)) {\n    var doc = window.Bokeh.index[id].model.document\n    doc.clear();\n    const i = window.Bokeh.documents.indexOf(doc);\n    if (i > -1) {\n      window.Bokeh.documents.splice(i, 1);\n    }\n  }\n}\n\n/**\n * Handle kernel restart event\n */\nfunction handle_kernel_cleanup(event, handle) {\n  delete PyViz.comms[\"hv-extension-comm\"];\n  window.PyViz.plot_index = {}\n}\n\n/**\n * Handle update_display_data messages\n */\nfunction handle_update_output(event, handle) {\n  handle_clear_output(event, {cell: {output_area: handle.output_area}})\n  handle_add_output(event, handle)\n}\n\nfunction register_renderer(events, OutputArea) {\n  function append_mime(data, metadata, element) {\n    // create a DOM node to render to\n    var toinsert = this.create_output_subarea(\n    metadata,\n    CLASS_NAME,\n    EXEC_MIME_TYPE\n    );\n    this.keyboard_manager.register_events(toinsert);\n    // Render to node\n    var props = {data: data, metadata: metadata[EXEC_MIME_TYPE]};\n    render(props, toinsert[0]);\n    element.append(toinsert);\n    return toinsert\n  }\n\n  events.on('output_added.OutputArea', handle_add_output);\n  events.on('output_updated.OutputArea', handle_update_output);\n  events.on('clear_output.CodeCell', handle_clear_output);\n  events.on('delete.Cell', handle_clear_output);\n  events.on('kernel_ready.Kernel', handle_kernel_cleanup);\n\n  OutputArea.prototype.register_mime_type(EXEC_MIME_TYPE, append_mime, {\n    safe: true,\n    index: 0\n  });\n}\n\nif (window.Jupyter !== undefined) {\n  try {\n    var events = require('base/js/events');\n    var OutputArea = require('notebook/js/outputarea').OutputArea;\n    if (OutputArea.prototype.mime_types().indexOf(EXEC_MIME_TYPE) == -1) {\n      register_renderer(events, OutputArea);\n    }\n  } catch(err) {\n  }\n}\n",
      "application/vnd.holoviews_load.v0+json": ""
     },
     "metadata": {},
     "output_type": "display_data"
    },
    {
     "data": {
      "text/html": [
       "<style>*[data-root-id],\n",
       "*[data-root-id] > * {\n",
       "  box-sizing: border-box;\n",
       "  font-family: var(--jp-ui-font-family);\n",
       "  font-size: var(--jp-ui-font-size1);\n",
       "  color: var(--vscode-editor-foreground, var(--jp-ui-font-color1));\n",
       "}\n",
       "\n",
       "/* Override VSCode background color */\n",
       ".cell-output-ipywidget-background:has(> .cell-output-ipywidget-background\n",
       "    > .lm-Widget\n",
       "    > *[data-root-id]),\n",
       ".cell-output-ipywidget-background:has(> .lm-Widget > *[data-root-id]) {\n",
       "  background-color: transparent !important;\n",
       "}\n",
       "</style>"
      ]
     },
     "metadata": {},
     "output_type": "display_data"
    }
   ],
   "source": [
    "# Meta code to wrap into slides\n",
    "# `panel serve app.ipynb --autoreload`\n",
    "\n",
    "import os\n",
    "\n",
    "import panel as pn\n",
    "import pandas as pd\n",
    "import hvplot.pandas\n",
    "\n",
    "\n",
    "pn.extension(\n",
    "    template=\"slides\",\n",
    "    css_files=[\"https://fonts.googleapis.com/css?family=Inter\"],\n",
    "    raw_css=[\n",
    "        'html, body { font-family: \"Inter\",sans-serif; }',\n",
    "        \":root {--r-background-color: rgb(16, 39, 47) }\",\n",
    "        \"h1 { text-align: left; font-size: 3em; }\",\n",
    "        \"h2 { text-align: left; font-size: 3em; }\",\n",
    "        \"ul { text-align: left; font-size: 2em; }\",\n",
    "        \"p { text-align: left; font-size: 2em; }\",\n",
    "        \"pre { text-align: left; }\",\n",
    "    ],\n",
    "    theme=\"dark\",\n",
    ")\n",
    "\n",
    "pn.state.template.param.update(\n",
    "    design=pn.theme.Material,\n",
    "    header_background=\"white\",\n",
    "    logo=\"anaconda.png\",\n",
    "    title=\"Easy exploration and ML-model tuning with hvPlot\",\n",
    ")\n",
    "\n",
    "pn.state.template.config.param.update(\n",
    "    raw_css=[\n",
    "        \"#header { height: 0; padding: 20px; }\",\n",
    "        \"li { text-align: left; }\",\n",
    "        \"p { margin-block-start: 0.5em; margin-block-end: 0.2em}\",\n",
    "    ],\n",
    "    css_files=[pn.io.resources.CSS_URLS[\"font-awesome\"]],\n",
    ")\n",
    "\n",
    "slide = lambda *objs: pn.Column(\n",
    "    pn.Column(*objs),\n",
    "    sizing_mode=\"stretch_both\",\n",
    "    min_height=600,\n",
    "    styles={\"display\": \"flex\", \"height\": \"100%\", \"align-items\": \"center\"},\n",
    ")\n",
    "\n",
    "\n",
    "def header(text, size=\"4em\", **kwargs):\n",
    "    return HTML(\n",
    "        f\"<span>{text}</span>\",\n",
    "        styles={\"font-size\": size, \"font-weight\": \"bold\"},\n",
    "        **kwargs,\n",
    "    )\n",
    "\n",
    "\n",
    "def text_fragment(text, size=\"0.5em\", **kwargs):\n",
    "    return Markdown(\n",
    "        text,\n",
    "        styles={\"font-size\": size, \"font-weight\": \"bold\"},\n",
    "        tags=[\"fragment\"],\n",
    "        **kwargs,\n",
    "    )\n",
    "\n",
    "\n",
    "def ends(df):\n",
    "    try:\n",
    "        return pn.Column(df.iloc[:5, :5], \"...\", df.iloc[-5:, -5:])\n",
    "    except:\n",
    "        return pn.Column(df.iloc[:5], \"...\", df.iloc[-5:])"
   ]
  },
  {
   "cell_type": "code",
   "execution_count": 250,
   "metadata": {},
   "outputs": [
    {
     "data": {
      "application/vnd.jupyter.widget-view+json": {
       "model_id": "bad48673bf54420499b82734e10a6fcf",
       "version_major": 2,
       "version_minor": 0
      },
      "text/plain": [
       "BokehModel(combine_events=True, render_bundle={'docs_json': {'04b24e27-9306-4f86-acad-2452675162fa': {'version…"
      ]
     },
     "execution_count": 250,
     "metadata": {},
     "output_type": "execute_result"
    }
   ],
   "source": [
    "slide(\n",
    "    pn.Column(\n",
    "        \"\"\"\n",
    "        ## Goals\n",
    "\n",
    "        - Demo hvplot's ease-of-use and features\n",
    "        - Show how to use hvplot for ML\n",
    "        - Share applicable **PRO TIPS** for data workflows\n",
    "        \"\"\",\n",
    "        pn.Column(\n",
    "            pn.Row(\n",
    "                pn.panel(\"katrina.png\", width=300),\n",
    "                pn.panel(\"tracks_climatology.png\", width=300),\n",
    "            ),\n",
    "            pn.Row(\n",
    "                pn.panel(\"heatmap.png\", width=300),\n",
    "                pn.panel(\"scores.png\", width=300)\n",
    "            ),\n",
    "        ),\n",
    "    ).servable()\n",
    ")"
   ]
  },
  {
   "cell_type": "code",
   "execution_count": 251,
   "metadata": {},
   "outputs": [
    {
     "name": "stderr",
     "output_type": "stream",
     "text": [
      "File ‘ibtracs.since1980.list.v04r00.csv’ already there; not retrieving.\n",
      "\n"
     ]
    },
    {
     "data": {
      "application/vnd.jupyter.widget-view+json": {
       "model_id": "2e8867a9fc714e5682c15bf3e391fcdc",
       "version_major": 2,
       "version_minor": 0
      },
      "text/plain": [
       "BokehModel(combine_events=True, render_bundle={'docs_json': {'f871559b-28e2-4077-843b-e046542a10cc': {'version…"
      ]
     },
     "execution_count": 251,
     "metadata": {},
     "output_type": "execute_result"
    }
   ],
   "source": [
    "os.system(\n",
    "    \"wget -nc https://www.ncei.noaa.gov/data/international-best-track-archive-for-climate-stewardship-ibtracs/v04r00/access/csv/ibtracs.since1980.list.v04r00.csv\"\n",
    ")\n",
    "\n",
    "slide(\n",
    "    pn.Column(\n",
    "        \"\"\"\n",
    "        ## Download the data\n",
    "\n",
    "        - Contains records of tropical cyclone (TC) since 1980\n",
    "        - Includes coordinates, intensity, wind speed, central pressure, etc\n",
    "        ```python\n",
    "        wget -nc https://www.ncei.noaa.gov/data/international-best-track-archive-for-\n",
    "        climate-stewardship-ibtracs/v04r00/access/csv/ibtracs.since1980.list.v04r00.csv\n",
    "        ```\n",
    "        \"\"\"\n",
    "    ).servable()\n",
    ")"
   ]
  },
  {
   "cell_type": "code",
   "execution_count": 252,
   "metadata": {},
   "outputs": [
    {
     "name": "stderr",
     "output_type": "stream",
     "text": [
      "/var/folders/8h/mk8mz7qn3_325ztm7pgb4ld00000gp/T/ipykernel_42595/2073633995.py:1: DtypeWarning: Columns (19,20,161,162) have mixed types. Specify dtype option on import or set low_memory=False.\n",
      "  df = pd.read_csv(\n"
     ]
    },
    {
     "data": {
      "application/vnd.jupyter.widget-view+json": {
       "model_id": "2d667f59bc7f4289a8057932e3dfdce4",
       "version_major": 2,
       "version_minor": 0
      },
      "text/plain": [
       "BokehModel(combine_events=True, render_bundle={'docs_json': {'e6d06332-286e-4b6a-ac16-0a6eb9a0d4b4': {'version…"
      ]
     },
     "execution_count": 252,
     "metadata": {},
     "output_type": "execute_result"
    }
   ],
   "source": [
    "df = pd.read_csv(\n",
    "    \"ibtracs.since1980.list.v04r00.csv\", parse_dates=[\"ISO_TIME\"], skiprows=[1]\n",
    ")\n",
    "\n",
    "icols = [19, 20, 161, 162]\n",
    "for icol in icols:\n",
    "    col = df.iloc[:, icol].name\n",
    "    df[col] = pd.to_numeric(df[col], errors=\"coerce\")\n",
    "\n",
    "slide(\n",
    "    pn.Column(\n",
    "        \"\"\"\n",
    "        ## Read and clean the data\n",
    "\n",
    "        - Open CSV with pandas\n",
    "        - Remove second row (index 1) since it's another header row with units\n",
    "        - Fix data types (object to numeric)\n",
    "\n",
    "        ```python\n",
    "        import pandas as pd\n",
    "\n",
    "        df = pd.read_csv(\"ibtracs.since1980.list.v04r00.csv\", parse_dates=[\"ISO_TIME\"], skiprows=[1])\n",
    "    \n",
    "        icols = [19, 20, 161, 162]\n",
    "        for icol in icols:\n",
    "            col = df.iloc[:, icol].name\n",
    "            df[col] = pd.to_numeric(df[col], errors=\"coerce\")\n",
    "    \n",
    "        display(df.dtypes[:8], df.head())\n",
    "        ```\n",
    "        \"\"\",\n",
    "        pn.Row(ends(df.dtypes), ends(df)),\n",
    "    ).servable()\n",
    ")"
   ]
  },
  {
   "cell_type": "code",
   "execution_count": null,
   "metadata": {},
   "outputs": [],
   "source": [
    "slide(\n",
    "    pn.Column(\n",
    "        \"\"\"\n",
    "        ## Export to parquet\n",
    "\n",
    "        - Minimal effort for improved read/write efficiency\n",
    "        - Accessible by many tools (pandas, dask, duckdb, etc)\n",
    "\n",
    "        ```python\n",
    "        df.to_parquet(\"ibtracs.parquet\")\n",
    "        ```\n",
    "        \"\"\",\n",
    "    ).servable()\n",
    ")\n"
   ]
  },
  {
   "cell_type": "code",
   "execution_count": null,
   "metadata": {},
   "outputs": [],
   "source": [
    "katrina_df = df.query(\n",
    "    \"NAME == 'KATRINA' and SEASON == 2005\"\n",
    ")\n",
    "\n",
    "slide(\n",
    "    pn.Row(\n",
    "        '''\n",
    "        ## Query for Hurricane Katrina\n",
    "\n",
    "        - Use `query` instead of `loc` as it's more concise\n",
    "        - OR use SQL with duckdb and convert to pandas with `fetchdf`\n",
    "        ```python\n",
    "        df = pd.read_parquet(\"ibtracs.parquet\")\n",
    "        katrina_df = df.query(\n",
    "            \"NAME == 'KATRINA' and SEASON == 2005\"\n",
    "        )\n",
    "\n",
    "        # equivalent to the above\n",
    "        import duckdb\n",
    "\n",
    "        katrina_df = duckdb.execute(\n",
    "            \"\"\"\n",
    "            SELECT * FROM 'ibtracs.parquet'\n",
    "            WHERE NAME == 'KATRINA' AND SEASON == 2005\n",
    "            \"\"\"\n",
    "        ).fetchdf()\n",
    "        ```\n",
    "        ''',\n",
    "    ).servable()\n",
    ")"
   ]
  },
  {
   "cell_type": "code",
   "execution_count": null,
   "metadata": {},
   "outputs": [],
   "source": [
    "katrina_points = katrina_df.hvplot(\n",
    "    kind=\"paths\",\n",
    "    x=\"LON\",\n",
    "    y=\"LAT\",\n",
    "    color=\"USA_SSHS\",\n",
    "    hover_cols=[\"USA_WIND\", \"USA_PRES\", \"ISO_TIME\"],\n",
    "    colorbar=True,\n",
    "    clabel=\"Saffir-Simpson Hurricane Scale\",\n",
    "    title=\"Hurricane Katrina Track\",\n",
    "    tiles=True,\n",
    ").opts(responsive=True, shared_axes=False)\n",
    "\n",
    "slide(\n",
    "    pn.Column(\n",
    "        '''\n",
    "        ## Plot Hurricane Katrina's tracks\n",
    "\n",
    "        - Get an interactive plot with `hvplot`\n",
    "        - Simply choose a chart type (`kind=paths`) select `x` and `y` coordinates\n",
    "        - Map `color` to the Saffir-Simpson Hurricane Scale (SSHS)\n",
    "        - Add data columns to show upon hovering with `hover_cols`\n",
    "        - **PRO TIP**: Set `tiles=True` to get a base map for spatial context\n",
    "        - Add annotations (`title`, `colorbar`, `tiles`, etc)\n",
    "\n",
    "        ```python\n",
    "        katrina_df.hvplot(\n",
    "            kind=\"paths\",\n",
    "            x=\"LON\",\n",
    "            y=\"LAT\",\n",
    "            color=\"USA_SSHS\",\n",
    "            hover_cols=[\"USA_WIND\", \"USA_PRES\", \"ISO_TIME\"],\n",
    "            colorbar=True,\n",
    "            clabel=\"Saffir-Simpson Hurricane Scale\",\n",
    "            title=\"Hurricane Katrina Track\",\n",
    "            tiles=True,\n",
    "        )\n",
    "        ```\n",
    "        ''',\n",
    "    ).servable()\n",
    ")"
   ]
  },
  {
   "cell_type": "code",
   "execution_count": null,
   "metadata": {},
   "outputs": [],
   "source": [
    "slide(\n",
    "    pn.pane.HoloViews(katrina_points).servable()\n",
    ")"
   ]
  },
  {
   "cell_type": "code",
   "execution_count": 110,
   "metadata": {},
   "outputs": [
    {
     "data": {
      "application/vnd.jupyter.widget-view+json": {
       "model_id": "ce7113f9e7ca477bb761db0865ecc8a7",
       "version_major": 2,
       "version_minor": 0
      },
      "text/plain": [
       "BokehModel(combine_events=True, render_bundle={'docs_json': {'5855a012-690a-49b7-8022-b2793dce5d55': {'version…"
      ]
     },
     "execution_count": 110,
     "metadata": {},
     "output_type": "execute_result"
    }
   ],
   "source": [
    "year_df = df.query(\"SEASON == 2005\")\n",
    "\n",
    "year_points = year_df.hvplot(\n",
    "    kind=\"points\",\n",
    "    x=\"LON\",\n",
    "    y=\"LAT\",\n",
    "    color=\"USA_SSHS\",\n",
    "    hover_cols=[\"USA_WIND\", \"USA_PRES\", \"ISO_TIME\"],\n",
    "    groupby=\"NAME\",\n",
    "    colorbar=True,\n",
    "    clabel=\"Saffir-Simpson Hurricane Scale\",\n",
    "    title=\"2005 Tropical Cyclone Track\",\n",
    "    tiles=True,\n",
    ").opts(responsive=True, aspect=1)\n",
    "\n",
    "slide(\n",
    "    pn.Column(\n",
    "        '''\n",
    "        ## Select and plot each track in 2005\n",
    "\n",
    "        - Can easily be points instead by setting `kind=\"points\"`\n",
    "        - **PRO TIP**: Use `groupby` to get a line for each storm\n",
    "\n",
    "        ```python\n",
    "        year_df = df.query(\"SEASON == 2005\")\n",
    "\n",
    "        year_df.hvplot(\n",
    "            kind=\"points\",\n",
    "            x=\"LON\",\n",
    "            y=\"LAT\",\n",
    "            color=\"USA_SSHS\",\n",
    "            hover_cols=[\"USA_WIND\", \"USA_PRES\", \"ISO_TIME\"],\n",
    "            groupby=\"NAME\",\n",
    "            colorbar=True,\n",
    "            clabel=\"Saffir-Simpson Hurricane Scale\",\n",
    "            title=\"Hurricane Track\",\n",
    "            tiles=True,\n",
    "        )\n",
    "        ```\n",
    "        ''',\n",
    "    ).servable()\n",
    ")"
   ]
  },
  {
   "cell_type": "code",
   "execution_count": 111,
   "metadata": {},
   "outputs": [
    {
     "data": {
      "application/vnd.jupyter.widget-view+json": {
       "model_id": "74a4cc90046f42bda01706755e4d5f3e",
       "version_major": 2,
       "version_minor": 0
      },
      "text/plain": [
       "BokehModel(combine_events=True, render_bundle={'docs_json': {'aa7b5f9a-27cf-426e-8d5d-9329aa207f94': {'version…"
      ]
     },
     "execution_count": 111,
     "metadata": {},
     "output_type": "execute_result"
    }
   ],
   "source": [
    "slide(\n",
    "    pn.panel(year_points).servable()\n",
    ")"
   ]
  },
  {
   "cell_type": "code",
   "execution_count": 117,
   "metadata": {},
   "outputs": [
    {
     "data": {
      "application/vnd.jupyter.widget-view+json": {
       "model_id": "d9120c06026b44b4b399ea4874e6027d",
       "version_major": 2,
       "version_minor": 0
      },
      "text/plain": [
       "BokehModel(combine_events=True, render_bundle={'docs_json': {'44aa6a5e-428d-4210-8022-422807272193': {'version…"
      ]
     },
     "execution_count": 117,
     "metadata": {},
     "output_type": "execute_result"
    }
   ],
   "source": [
    "all_points = df.hvplot(\n",
    "    kind=\"points\",\n",
    "    x=\"LON\",\n",
    "    y=\"LAT\",\n",
    "    color=\"USA_SSHS\",\n",
    "    colorbar=True,\n",
    "    clabel=\"Saffir-Simpson Hurricane Scale\",\n",
    "    title=\"Tropical Cyclone Tracks\",\n",
    "    tiles=True,\n",
    ").opts(responsive=True, aspect=1)\n",
    "\n",
    "slide(\n",
    "    pn.Column(\n",
    "        '''\n",
    "        ## Plot ALL tracks since 1980\n",
    "\n",
    "        - Overplotted; not too meaningful and hard to interpet...\n",
    "\n",
    "        ```python\n",
    "        df.hvplot(\n",
    "            kind=\"points\",\n",
    "            x=\"LON\",\n",
    "            y=\"LAT\",\n",
    "            color=\"USA_SSHS\",\n",
    "            tiles=True,\n",
    "        )\n",
    "        ```\n",
    "        ''',\n",
    "    ).servable()\n",
    ")"
   ]
  },
  {
   "cell_type": "code",
   "execution_count": 118,
   "metadata": {},
   "outputs": [
    {
     "data": {
      "application/vnd.jupyter.widget-view+json": {
       "model_id": "1fb801db2c9d43c1b6b847a53eb5b7d7",
       "version_major": 2,
       "version_minor": 0
      },
      "text/plain": [
       "BokehModel(combine_events=True, render_bundle={'docs_json': {'6b9b3953-16fa-423d-a728-87d6da11c6b2': {'version…"
      ]
     },
     "execution_count": 118,
     "metadata": {},
     "output_type": "execute_result"
    }
   ],
   "source": [
    "slide(\n",
    "    pn.panel(all_points).servable()\n",
    ")"
   ]
  },
  {
   "cell_type": "code",
   "execution_count": 119,
   "metadata": {},
   "outputs": [
    {
     "data": {
      "application/vnd.jupyter.widget-view+json": {
       "model_id": "6f4a2d9da0804bd3ac2708e7803ade3d",
       "version_major": 2,
       "version_minor": 0
      },
      "text/plain": [
       "BokehModel(combine_events=True, render_bundle={'docs_json': {'9b487a29-40e9-44fe-a116-b97866fbc49b': {'version…"
      ]
     },
     "execution_count": 119,
     "metadata": {},
     "output_type": "execute_result"
    }
   ],
   "source": [
    "max_points = df.hvplot(\n",
    "    kind=\"points\",\n",
    "    x=\"LON\",\n",
    "    y=\"LAT\",\n",
    "    color=\"USA_SSHS\",\n",
    "    colorbar=True,\n",
    "    clabel=\"Saffir-Simpson Hurricane Scale\",\n",
    "    title=\"Tropical Cyclone Tracks (Most Intense)\",\n",
    "    tiles=True,\n",
    "    rasterize=True,\n",
    "    aggregator=\"max\",\n",
    "    clim=(0, 5),\n",
    "    cmap=\"RdYlBu_r\",\n",
    ").opts(responsive=True, aspect=1)\n",
    "\n",
    "slide(\n",
    "    pn.Column(\n",
    "        '''\n",
    "        ## Plot ALL tracks since 1980 as rasterized max\n",
    "\n",
    "        - **PRO TIP**: Use `rasterize=True` to plot billions of points efficiently\n",
    "        - Uses datashader under the hood to aggregate points into pixels\n",
    "        - Set `aggregator=\"max\"` to get the max value for each pixel\n",
    "        - Adjust colorbar limits easily with `clim=(0, 5)`\n",
    "        - Update the colormap with `cmap=\"RdYlBu_r\"`\n",
    "\n",
    "        ```python\n",
    "        df.hvplot(\n",
    "            kind=\"points\",\n",
    "            x=\"LON\",\n",
    "            y=\"LAT\",\n",
    "            color=\"USA_SSHS\",\n",
    "            colorbar=True,\n",
    "            clabel=\"Saffir-Simpson Hurricane Scale\",\n",
    "            title=\"Tropical Cyclone Tracks\",\n",
    "            tiles=True,\n",
    "            rasterize=True,\n",
    "            aggregator=\"max\",\n",
    "            clim=(0, 5),\n",
    "            cmap=\"RdYlBu_r\",\n",
    "        )\n",
    "        ```\n",
    "        ''',\n",
    "    ).servable()\n",
    ")"
   ]
  },
  {
   "cell_type": "code",
   "execution_count": 120,
   "metadata": {},
   "outputs": [
    {
     "data": {
      "application/vnd.jupyter.widget-view+json": {
       "model_id": "d73cefcb8a304482ba4bf4f500a7eaaa",
       "version_major": 2,
       "version_minor": 0
      },
      "text/plain": [
       "BokehModel(combine_events=True, render_bundle={'docs_json': {'f4411c25-1543-42c6-805d-0e87f3029334': {'version…"
      ]
     },
     "execution_count": 120,
     "metadata": {},
     "output_type": "execute_result"
    },
    {
     "name": "stderr",
     "output_type": "stream",
     "text": [
      "Task exception was never retrieved\n",
      "future: <Task finished name='Task-359' coro=<Callback.process_on_change() done, defined at /Users/ahuang/miniconda3/lib/python3.10/site-packages/holoviews/plotting/bokeh/callbacks.py:322> exception=UnsetValueError(\"figure(id='d70162f0-93ff-4b4e-bcc3-09aaaa64e6f8', ...).inner_height doesn't have a value set\")>\n",
      "Traceback (most recent call last):\n",
      "  File \"/Users/ahuang/miniconda3/lib/python3.10/site-packages/holoviews/plotting/bokeh/callbacks.py\", line 340, in process_on_change\n",
      "    msg[attr] = self.resolve_attr_spec(path, cb_obj)\n",
      "  File \"/Users/ahuang/miniconda3/lib/python3.10/site-packages/holoviews/plotting/bokeh/callbacks.py\", line 248, in resolve_attr_spec\n",
      "    resolved = getattr(resolved, p, None)\n",
      "  File \"/Users/ahuang/miniconda3/lib/python3.10/site-packages/bokeh/core/property/descriptors.py\", line 283, in __get__\n",
      "    raise UnsetValueError(f\"{obj}.{self.name} doesn't have a value set\")\n",
      "bokeh.core.property.descriptors.UnsetValueError: figure(id='d70162f0-93ff-4b4e-bcc3-09aaaa64e6f8', ...).inner_height doesn't have a value set\n"
     ]
    }
   ],
   "source": [
    "slide(\n",
    "    pn.panel(max_points).servable()\n",
    ")"
   ]
  },
  {
   "cell_type": "code",
   "execution_count": 121,
   "metadata": {},
   "outputs": [
    {
     "data": {
      "application/vnd.jupyter.widget-view+json": {
       "model_id": "b3476759230448f4a7c7b0a53f1111f8",
       "version_major": 2,
       "version_minor": 0
      },
      "text/plain": [
       "BokehModel(combine_events=True, render_bundle={'docs_json': {'5d32750b-df50-4259-b80b-23a4f8053bfe': {'version…"
      ]
     },
     "execution_count": 121,
     "metadata": {},
     "output_type": "execute_result"
    }
   ],
   "source": [
    "count_points = df.hvplot(\n",
    "    kind=\"points\",\n",
    "    x=\"LON\",\n",
    "    y=\"LAT\",\n",
    "    colorbar=True,\n",
    "    clabel=\"Count\",\n",
    "    title=\"Tropical Cyclone Tracks (Count)\",\n",
    "    tiles=True,\n",
    "    rasterize=True,\n",
    "    aggregator=\"count\",\n",
    "    x_sampling=0.25,\n",
    "    y_sampling=0.25,\n",
    "    cmap=\"viridis\",\n",
    ").opts(responsive=True, aspect=1)\n",
    "\n",
    "slide(\n",
    "    pn.Column(\n",
    "        '''\n",
    "        ## Plot ALL tracks since 1980 as rasterized count\n",
    "\n",
    "        - Drop `color=\"USA_SSHS\"` & set `aggregator=\"count\"` to get the 2D histogram\n",
    "        - Other `aggregator`s include `any', 'count', 'first', 'last', 'max', 'mean', 'min', etc\n",
    "        - Increase `x_sampling` and `y_sampling` to get a smoother plot\n",
    "\n",
    "        ```python\n",
    "        df.hvplot(\n",
    "            kind=\"points\",\n",
    "            x=\"LON\",\n",
    "            y=\"LAT\",\n",
    "            colorbar=True,\n",
    "            clabel=\"Count\",\n",
    "            title=\"Tropical Cyclone Tracks (Count)\",\n",
    "            tiles=True,\n",
    "            rasterize=True,\n",
    "            aggregator=\"count\",\n",
    "            x_sampling=0.25,\n",
    "            y_sampling=0.25,\n",
    "            cmap=\"viridis\",\n",
    "        )\n",
    "        ```\n",
    "        ''',\n",
    "    ).servable()\n",
    ")"
   ]
  },
  {
   "cell_type": "code",
   "execution_count": 122,
   "metadata": {},
   "outputs": [
    {
     "data": {
      "application/vnd.jupyter.widget-view+json": {
       "model_id": "b345d24dfc11479ebabfa439fc1a4242",
       "version_major": 2,
       "version_minor": 0
      },
      "text/plain": [
       "BokehModel(combine_events=True, render_bundle={'docs_json': {'427ec7ea-6e36-4a97-ac63-78985dd79a86': {'version…"
      ]
     },
     "execution_count": 122,
     "metadata": {},
     "output_type": "execute_result"
    },
    {
     "name": "stderr",
     "output_type": "stream",
     "text": [
      "Task exception was never retrieved\n",
      "future: <Task finished name='Task-364' coro=<Callback.process_on_change() done, defined at /Users/ahuang/miniconda3/lib/python3.10/site-packages/holoviews/plotting/bokeh/callbacks.py:322> exception=UnsetValueError(\"figure(id='8e5d2871-a3f3-4fef-a4ab-104f0ed19277', ...).inner_height doesn't have a value set\")>\n",
      "Traceback (most recent call last):\n",
      "  File \"/Users/ahuang/miniconda3/lib/python3.10/site-packages/holoviews/plotting/bokeh/callbacks.py\", line 340, in process_on_change\n",
      "    msg[attr] = self.resolve_attr_spec(path, cb_obj)\n",
      "  File \"/Users/ahuang/miniconda3/lib/python3.10/site-packages/holoviews/plotting/bokeh/callbacks.py\", line 248, in resolve_attr_spec\n",
      "    resolved = getattr(resolved, p, None)\n",
      "  File \"/Users/ahuang/miniconda3/lib/python3.10/site-packages/bokeh/core/property/descriptors.py\", line 283, in __get__\n",
      "    raise UnsetValueError(f\"{obj}.{self.name} doesn't have a value set\")\n",
      "bokeh.core.property.descriptors.UnsetValueError: figure(id='8e5d2871-a3f3-4fef-a4ab-104f0ed19277', ...).inner_height doesn't have a value set\n"
     ]
    }
   ],
   "source": [
    "slide(\n",
    "    pn.panel(count_points).servable()\n",
    ")"
   ]
  },
  {
   "cell_type": "code",
   "execution_count": 124,
   "metadata": {},
   "outputs": [
    {
     "data": {
      "application/vnd.jupyter.widget-view+json": {
       "model_id": "cfd7223a4408400b9b8b4f841aac75bb",
       "version_major": 2,
       "version_minor": 0
      },
      "text/plain": [
       "BokehModel(combine_events=True, render_bundle={'docs_json': {'51f874f8-cd21-4132-a4a3-c1154f119331': {'version…"
      ]
     },
     "execution_count": 124,
     "metadata": {},
     "output_type": "execute_result"
    }
   ],
   "source": [
    "slide(\n",
    "    pn.Column(\n",
    "        '''\n",
    "        ## Mid-point Summary\n",
    "\n",
    "        - Use hvplot to quickly, and easily, visualize your data\n",
    "        - Outputs interactive plots with hover, zoom, pan capabilities\n",
    "        - Set keyword arguments to access advanced features\n",
    "        - Get a base map overlay with `tiles`\n",
    "        - Adds widgets automatically for easy exploration using `groupby`\n",
    "        - Plots billions of data points efficiently thru `rasterize`\n",
    "        - Integrates with `panel` for dashboards (or presentations like this)\n",
    "        - Check out https://hvplot.holoviz.org/user_guide/Customization.html for all the options\n",
    "        ''',\n",
    "    ).servable()\n",
    ")"
   ]
  },
  {
   "cell_type": "code",
   "execution_count": 128,
   "metadata": {},
   "outputs": [
    {
     "data": {
      "application/vnd.jupyter.widget-view+json": {
       "model_id": "cc642c11a9e2447abb43220655a9c224",
       "version_major": 2,
       "version_minor": 0
      },
      "text/plain": [
       "BokehModel(combine_events=True, render_bundle={'docs_json': {'3569ed15-1f52-4507-95df-f7d3c4e6dc85': {'version…"
      ]
     },
     "execution_count": 128,
     "metadata": {},
     "output_type": "execute_result"
    }
   ],
   "source": [
    "slide(\n",
    "    pn.Row(\n",
    "        \"\"\"\n",
    "        ## Using hvplot for ML\n",
    "\n",
    "        Motivation:\n",
    "        \"El Niño events generally suppress Atlantic<br>hurricane activity\"\n",
    "        [[Source](https://www.weather.gov/jan/el_nino_and_la_nina)]\n",
    "\n",
    "        Let's test this hypothesis using hvplot and scikit-learn!\n",
    "        \"\"\",\n",
    "        pn.panel(\n",
    "            \"https://www.weather.gov/images/jan/ElNino_LaNina/elninowxpatterns.gif\"\n",
    "        ),\n",
    "    ).servable()\n",
    ")"
   ]
  },
  {
   "cell_type": "code",
   "execution_count": 149,
   "metadata": {},
   "outputs": [
    {
     "data": {
      "application/vnd.jupyter.widget-view+json": {
       "model_id": "889e4374be6943f297499de4d8153725",
       "version_major": 2,
       "version_minor": 0
      },
      "text/plain": [
       "BokehModel(combine_events=True, render_bundle={'docs_json': {'56524628-b4ff-4515-bfe6-f198bf4a0873': {'version…"
      ]
     },
     "execution_count": 149,
     "metadata": {},
     "output_type": "execute_result"
    }
   ],
   "source": [
    "atlantic_df = df.query(\n",
    "    \"NAME != 'NOT_NAMED' and \"\n",
    "    \"USA_ATCF_ID.str.startswith('AL') and \"\n",
    "    \"SEASON < 2023 and \"\n",
    "    \"ISO_TIME.dt.month.between(6, 11) \"\n",
    ")\n",
    "\n",
    "atlantic_points = atlantic_df.hvplot(\n",
    "    kind=\"points\",\n",
    "    x=\"LON\",\n",
    "    y=\"LAT\",\n",
    "    colorbar=True,\n",
    "    clabel=\"Count\",\n",
    "    title=\"Tropical Cyclone Tracks (Count)\",\n",
    "    tiles=True,\n",
    "    rasterize=True,\n",
    "    aggregator=\"count\",\n",
    "    x_sampling=0.25,\n",
    "    y_sampling=0.25,\n",
    "    cmap=\"viridis\",\n",
    ").opts(xlim=(-179, 179), aspect=1, responsive=True)\n",
    "\n",
    "\n",
    "slide(\n",
    "    pn.Column(\n",
    "        '''\n",
    "        ## Subset peak hurricane season in the Atlantic basin\n",
    "\n",
    "        - The six-month season runs from June 1 to November 30 [[Source](https://www.noaa.gov/news-release/2023-atlantic-hurricane-season-outlook)].\n",
    "        - Verify query works as expected by visualizing\n",
    "\n",
    "        ```python\n",
    "        atlantic_df = df.query(\n",
    "            \"NAME != 'NOT_NAMED' and \"\n",
    "            \"USA_ATCF_ID.str.startswith('AL') and \"\n",
    "            \"SEASON < 2023 and \"\n",
    "            \"ISO_TIME.dt.month.between(6, 11) \"\n",
    "        )\n",
    "\n",
    "        atlantic_df.hvplot.points(\n",
    "            kind=\"points\",\n",
    "            x=\"LON\",\n",
    "            y=\"LAT\",\n",
    "            colorbar=True,\n",
    "            clabel=\"Count\",\n",
    "            title=\"Tropical Cyclone Tracks (Count)\",\n",
    "            tiles=True,\n",
    "            rasterize=True,\n",
    "            aggregator=\"count\",\n",
    "            x_sampling=0.25,\n",
    "            y_sampling=0.25,\n",
    "            cmap=\"viridis\",\n",
    "        ).opts(xlim=(-179, 179), responsive=True)\n",
    "        ```\n",
    "        ''',\n",
    "    ).servable()\n",
    ")"
   ]
  },
  {
   "cell_type": "code",
   "execution_count": 150,
   "metadata": {},
   "outputs": [
    {
     "data": {
      "application/vnd.jupyter.widget-view+json": {
       "model_id": "aacca4542bd144118690d68153f4d40e",
       "version_major": 2,
       "version_minor": 0
      },
      "text/plain": [
       "BokehModel(combine_events=True, render_bundle={'docs_json': {'f269cafb-cd3d-4843-bb6b-bb140d630a1c': {'version…"
      ]
     },
     "execution_count": 150,
     "metadata": {},
     "output_type": "execute_result"
    },
    {
     "name": "stderr",
     "output_type": "stream",
     "text": [
      "Task exception was never retrieved\n",
      "future: <Task finished name='Task-446' coro=<Callback.process_on_change() done, defined at /Users/ahuang/miniconda3/lib/python3.10/site-packages/holoviews/plotting/bokeh/callbacks.py:322> exception=UnsetValueError(\"figure(id='9e1a44b7-ff8f-4a92-9fb8-a580881bb399', ...).inner_height doesn't have a value set\")>\n",
      "Traceback (most recent call last):\n",
      "  File \"/Users/ahuang/miniconda3/lib/python3.10/site-packages/holoviews/plotting/bokeh/callbacks.py\", line 340, in process_on_change\n",
      "    msg[attr] = self.resolve_attr_spec(path, cb_obj)\n",
      "  File \"/Users/ahuang/miniconda3/lib/python3.10/site-packages/holoviews/plotting/bokeh/callbacks.py\", line 248, in resolve_attr_spec\n",
      "    resolved = getattr(resolved, p, None)\n",
      "  File \"/Users/ahuang/miniconda3/lib/python3.10/site-packages/bokeh/core/property/descriptors.py\", line 283, in __get__\n",
      "    raise UnsetValueError(f\"{obj}.{self.name} doesn't have a value set\")\n",
      "bokeh.core.property.descriptors.UnsetValueError: figure(id='9e1a44b7-ff8f-4a92-9fb8-a580881bb399', ...).inner_height doesn't have a value set\n"
     ]
    }
   ],
   "source": [
    "slide(pn.panel(atlantic_points).servable())"
   ]
  },
  {
   "cell_type": "code",
   "execution_count": 157,
   "metadata": {},
   "outputs": [
    {
     "data": {
      "application/vnd.jupyter.widget-view+json": {
       "model_id": "de043a0176864a9cae7eda8d65f74f38",
       "version_major": 2,
       "version_minor": 0
      },
      "text/plain": [
       "BokehModel(combine_events=True, render_bundle={'docs_json': {'d4425605-3c78-4b4d-8137-738d72e2f3e7': {'version…"
      ]
     },
     "execution_count": 157,
     "metadata": {},
     "output_type": "execute_result"
    }
   ],
   "source": [
    "# %%\n",
    "atlantic_count_df = (\n",
    "    df.query(\n",
    "        \"NAME != 'NOT_NAMED' and \"\n",
    "        \"USA_ATCF_ID.str.startswith('AL') and \"\n",
    "        \"SEASON < 2023 and \"\n",
    "        \"ISO_TIME.dt.month.between(6, 11) \"\n",
    "    )\n",
    "    .groupby(\"SEASON\")[\"NAME\"]\n",
    "    .nunique()\n",
    "    .reset_index()\n",
    "    .rename(columns={\"NAME\": \"unique_names\"})\n",
    ")\n",
    "\n",
    "atlantic_count_curve = atlantic_count_df.hvplot(\n",
    "    x=\"SEASON\",\n",
    "    y=\"unique_names\",\n",
    "    title=\"Unique Names per Season\",\n",
    ")\n",
    "\n",
    "slide(\n",
    "    pn.Column(\n",
    "        '''\n",
    "        ## Compute the number of unique names per season\n",
    "\n",
    "        - Each name is used once per season\n",
    "        - **PRO TIP**: Use `between` to filter between two values\n",
    "\n",
    "        ```python\n",
    "        atlantic_count_df = (\n",
    "            df.query(\n",
    "                \"NAME != 'NOT_NAMED' and \"\n",
    "                \"USA_ATCF_ID.str.startswith('AL') and \"\n",
    "                \"SEASON < 2023 and \"\n",
    "                \"ISO_TIME.dt.month.between(6, 11) \"\n",
    "            )\n",
    "            .groupby(\"SEASON\")[\"NAME\"]\n",
    "            .nunique()\n",
    "            .reset_index()\n",
    "            .rename(columns={\"NAME\": \"unique_names\"})\n",
    "        )\n",
    "        \"\"\").fetchdf()\n",
    "\n",
    "        atlantic_count_df.hvplot(\n",
    "            x=\"SEASON\",\n",
    "            y=\"unique_names\",\n",
    "            title=\"Unique Names per Season\",\n",
    "        )\n",
    "        ''',\n",
    "        pn.panel(atlantic_count_curve),\n",
    "    ).servable()\n",
    ")"
   ]
  },
  {
   "cell_type": "code",
   "execution_count": 160,
   "metadata": {},
   "outputs": [
    {
     "data": {
      "application/vnd.jupyter.widget-view+json": {
       "model_id": "3b3851ef206846b1a8316bf2d90643ae",
       "version_major": 2,
       "version_minor": 0
      },
      "text/plain": [
       "BokehModel(combine_events=True, render_bundle={'docs_json': {'ca1a0a4f-88a3-4a6d-9e52-392704369de5': {'version…"
      ]
     },
     "execution_count": 160,
     "metadata": {},
     "output_type": "execute_result"
    }
   ],
   "source": [
    "nino_df = pd.read_csv(\n",
    "    \"https://raw.githubusercontent.com/ahuang11/oni/master/nino_ml.csv\",\n",
    "    index_col=0,\n",
    "    parse_dates=True,\n",
    ")\n",
    "nino_df = nino_df.rename_axis(\"date\").dropna()\n",
    "\n",
    "slide(\n",
    "    pn.Column(\n",
    "        \"\"\"\n",
    "        ## Get Nino predictors loaded\n",
    "\n",
    "        - **PRO TIP**: Read directly from URL\n",
    "        - t300 - depth averaged temps up from 0 to 300m\n",
    "        - wwv - warm water volume\n",
    "        - u850 - 850 mb trade wind index\n",
    "\n",
    "        ```python\n",
    "        nino_df = pd.read_csv(\n",
    "            'https://raw.githubusercontent.com/ahuang11/oni/master/nino_ml.csv',\n",
    "            index_col=0,\n",
    "            parse_dates=True\n",
    "        )\n",
    "        nino_df = nino_df.rename_axis(\"date\").dropna()\n",
    "        ```\n",
    "        \"\"\",\n",
    "        ends(nino_df),\n",
    "    ).servable()\n",
    ")"
   ]
  },
  {
   "cell_type": "code",
   "execution_count": 182,
   "metadata": {},
   "outputs": [
    {
     "data": {
      "application/vnd.jupyter.widget-view+json": {
       "model_id": "fc009721bc5b4eeda36ee41d839b69ac",
       "version_major": 2,
       "version_minor": 0
      },
      "text/plain": [
       "BokehModel(combine_events=True, render_bundle={'docs_json': {'c6e86058-ffc8-4a19-bb90-b3732bb32a7f': {'version…"
      ]
     },
     "execution_count": 182,
     "metadata": {},
     "output_type": "execute_result"
    }
   ],
   "source": [
    "nino_spring_df = nino_df.assign(**{\n",
    "    \"year\": lambda df: df.index.year,\n",
    "    \"month\": lambda df: df.index.month,\n",
    "}).query(\n",
    "    \"month.between(1, 5)\"\n",
    ")\n",
    "\n",
    "slide(\n",
    "    pn.Row(\n",
    "        '''\n",
    "        ## Subset predictors\n",
    "\n",
    "        - Select months prior to the peak season: January to May\n",
    "        - **PRO TIP**: Use `lambda` for one assignments using latest df\n",
    "\n",
    "        ```python\n",
    "        nino_spring_df = nino_df.assign(**{\n",
    "            \"year\": lambda df: df.index.year,\n",
    "            \"month\": lambda df: df.index.month,\n",
    "        }).query(\n",
    "            \"month.between(1, 5)\"\n",
    "        )\n",
    "\n",
    "        display(nino_spring_df.head())\n",
    "        ```\n",
    "        ''',\n",
    "        pn.Column(\n",
    "            pn.panel(\"diagram.png\", width=500),\n",
    "            ends(nino_spring_df),\n",
    "        ),\n",
    "    ).servable()\n",
    ")"
   ]
  },
  {
   "cell_type": "code",
   "execution_count": 184,
   "metadata": {},
   "outputs": [
    {
     "data": {
      "application/vnd.jupyter.widget-view+json": {
       "model_id": "70cd16e460044eb3bf9c3c7972688562",
       "version_major": 2,
       "version_minor": 0
      },
      "text/plain": [
       "BokehModel(combine_events=True, render_bundle={'docs_json': {'5492453a-5a62-4e72-bf9b-3ac64979fda8': {'version…"
      ]
     },
     "execution_count": 184,
     "metadata": {},
     "output_type": "execute_result"
    }
   ],
   "source": [
    "ml_df = (\n",
    "    atlantic_count_df.set_index(\"SEASON\")\n",
    "    .join(nino_spring_df.set_index(\"year\"))\n",
    ").reset_index(names=[\"year\"])\n",
    "\n",
    "slide(\n",
    "    pn.Column(\n",
    "        \"\"\"\n",
    "        ## Join the two dataframes\n",
    "\n",
    "        - Use year / SEASON as the primary key\n",
    "\n",
    "        ```python\n",
    "        ml_df = (\n",
    "            atlantic_count_df.set_index(\"SEASON\")\n",
    "            .join(nino_spring_df.set_index(\"year\"))\n",
    "        ).reset_index(names=[\"year\"])\n",
    "        \n",
    "        display(ml_df.head())\n",
    "        ```\n",
    "        \"\"\",\n",
    "        ends(ml_df),\n",
    "    ).servable()\n",
    ")"
   ]
  },
  {
   "cell_type": "code",
   "execution_count": 206,
   "metadata": {},
   "outputs": [
    {
     "data": {
      "application/vnd.jupyter.widget-view+json": {
       "model_id": "a0157ed3783347eeac5e6714d6ccd53e",
       "version_major": 2,
       "version_minor": 0
      },
      "text/plain": [
       "BokehModel(combine_events=True, render_bundle={'docs_json': {'8368116d-e098-431e-a12a-20954dd0234b': {'version…"
      ]
     },
     "execution_count": 206,
     "metadata": {},
     "output_type": "execute_result"
    }
   ],
   "source": [
    "corr_df = (\n",
    "    ml_df.groupby(\"month\")\n",
    "    .corr(numeric_only=True)[\"unique_names\"]\n",
    "    .sort_values()\n",
    "    .rename_axis([\"month\", \"parameter\"])\n",
    ")\n",
    "\n",
    "corr_heatmap = corr_df.hvplot(\n",
    "    kind=\"heatmap\",\n",
    "    x=\"month\",\n",
    "    y=\"parameter\",\n",
    "    c=\"unique_names\",\n",
    "    cmap=\"RdBu_r\",\n",
    "    colorbar=True,\n",
    "    symmetric=True,\n",
    "    title=\"Correlation Matrix\",\n",
    "    clabel=\"Correlation\",\n",
    "    height=800,\n",
    ").opts(color_levels=12)\n",
    "\n",
    "slide(\n",
    "    pn.Row(\n",
    "        \"\"\"\n",
    "        # Explore the best features for model\n",
    "\n",
    "        - Sort by highest values and create a heatmap\n",
    "        - **PRO TIP**: Set `color_levels` for discernible colors at a glance\n",
    "        - Select features using highest correlation\n",
    "        - Zonal winds at 850mb are quite correlated\n",
    "        - Nino indices are not extremely correlated\n",
    "        - April and May are the most correlated months\n",
    "\n",
    "        ```python\n",
    "        corr_df = (\n",
    "            ml_df.groupby(\"month\")\n",
    "            .corr(numeric_only=True)[\"unique_names\"]\n",
    "            .sort_values()\n",
    "            .rename_axis([\"month\", \"parameter\"])\n",
    "        )\n",
    "        corr_heatmap = corr_df.hvplot(\n",
    "            kind=\"heatmap\",\n",
    "            x=\"month\",\n",
    "            y=\"parameter\",\n",
    "            c=\"unique_names\",\n",
    "            cmap=\"RdBu_r\",\n",
    "            colorbar=True,\n",
    "            symmetric=True,\n",
    "            title=\"Correlation Matrix\",\n",
    "            clabel=\"Correlation\",\n",
    "            height=800,\n",
    "        ).opts(color_levels=12)\n",
    "        ```\n",
    "        \"\"\",\n",
    "        pn.panel(corr_heatmap),\n",
    "    ).servable()\n",
    ")"
   ]
  },
  {
   "cell_type": "code",
   "execution_count": 234,
   "metadata": {},
   "outputs": [
    {
     "data": {
      "application/vnd.jupyter.widget-view+json": {
       "model_id": "898e739b0c3e4ee680813799fcf320b6",
       "version_major": 2,
       "version_minor": 0
      },
      "text/plain": [
       "BokehModel(combine_events=True, render_bundle={'docs_json': {'b178bfaf-4de9-4e10-a541-a43c2261b6f7': {'version…"
      ]
     },
     "execution_count": 234,
     "metadata": {},
     "output_type": "execute_result"
    }
   ],
   "source": [
    "ml_month_dfs = []\n",
    "for month in range(4, 6):\n",
    "    ml_month_df = ml_df.loc[ml_df[\"month\"] == month].drop(columns=[\"month\"])\n",
    "    ml_month_df = ml_month_df.set_index([\"year\", \"unique_names\"])\n",
    "    ml_month_df.columns = ml_month_df.columns + f\"_m{month}\"\n",
    "    ml_month_dfs.append(ml_month_df)\n",
    "\n",
    "ml_month_df = pd.concat(ml_month_dfs, axis=1).reset_index()\n",
    "ml_feature_df = ml_month_df.filter(\n",
    "    regex=\"t300|u850_c|olr|wwv_e|year|month|unique_names\"\n",
    ")\n",
    "\n",
    "slide(\n",
    "    pn.Column(\n",
    "        \"\"\"\n",
    "        ## Subset by highest correlated months and features\n",
    "\n",
    "        - Convert each month's row as individual predictor columns\n",
    "        - **PRO TIP**: Filter column names by regex instead of typing them out\n",
    "\n",
    "        ```python\n",
    "        ml_month_dfs = []\n",
    "        for month in range(4, 6):\n",
    "            ml_month_df = ml_df.loc[ml_df[\"month\"] == month].drop(columns=[\"month\"])\n",
    "            ml_month_df = ml_month_df.set_index([\"year\", \"unique_names\"])\n",
    "            ml_month_df.columns = ml_month_df.columns + f\"_m{month}\"\n",
    "            ml_month_dfs.append(ml_month_df)\n",
    "\n",
    "        ml_month_df = pd.concat(ml_month_dfs, axis=1).reset_index()\n",
    "        ml_feature_df = ml_month_df.filter(\n",
    "            regex=\"t300|u850_c|olr|wwv_e|year|month|unique_names\"\n",
    "        )\n",
    "        ```\n",
    "        \"\"\",\n",
    "        ends(ml_month_df),\n",
    "    ).servable()\n",
    ")"
   ]
  },
  {
   "cell_type": "code",
   "execution_count": 235,
   "metadata": {},
   "outputs": [
    {
     "data": {
      "application/vnd.jupyter.widget-view+json": {
       "model_id": "918b5d80b63b4744aa50daffe6c862f2",
       "version_major": 2,
       "version_minor": 0
      },
      "text/plain": [
       "BokehModel(combine_events=True, render_bundle={'docs_json': {'889d9675-bf27-48fe-b12b-58b841e08970': {'version…"
      ]
     },
     "execution_count": 235,
     "metadata": {},
     "output_type": "execute_result"
    }
   ],
   "source": [
    "\n",
    "import statsmodels.api as sm\n",
    "\n",
    "\n",
    "def run_model(model, X, y, train_index, val_index, **model_kwargs):\n",
    "    X_train, X_val = X.iloc[train_index], X.iloc[val_index]\n",
    "    y_train, y_val = y.iloc[train_index], y.iloc[val_index]\n",
    "\n",
    "    X_train = sm.add_constant(X_train)\n",
    "    model = model(y_train, X_train, **model_kwargs)\n",
    "    fitted_model = model.fit()\n",
    "\n",
    "    X_val = sm.add_constant(X_val)\n",
    "    y_pred_val = fitted_model.predict(X_val)\n",
    "\n",
    "    val_df = pd.DataFrame(\n",
    "        {\"year\": X_val[\"year\"], \"actual\": y_val, \"prediction\": y_pred_val}\n",
    "    ).sort_values(\"year\")\n",
    "    return val_df\n",
    "\n",
    "\n",
    "def score_output(val_df):\n",
    "    corr = val_df[\"actual\"].corr(val_df[\"prediction\"])\n",
    "    rmse = ((val_df[\"actual\"] - val_df[\"prediction\"]) ** 2).mean() ** 0.5\n",
    "    return pd.Series([corr, rmse], index=[\"corr\", \"rmse\"])\n",
    "\n",
    "\n",
    "slide(\n",
    "    pn.Row(\n",
    "        \"\"\"\n",
    "        ## Create ML helper functions\n",
    "\n",
    "        - Splits into training and validation, fits model, and makes prediction\n",
    "        - Scores the output using correlation and RMSE\n",
    "\n",
    "        ```python\n",
    "        import statsmodels.api as sm\n",
    "\n",
    "        def run_model(model, X, y, train_index, val_index, **model_kwargs):\n",
    "            X_train, X_val = X.iloc[train_index], X.iloc[val_index]\n",
    "            y_train, y_val = y.iloc[train_index], y.iloc[val_index]\n",
    "\n",
    "            X_train = sm.add_constant(X_train)\n",
    "            model = model(y_train, X_train, **model_kwargs)\n",
    "            fitted_model = model.fit()\n",
    "\n",
    "            X_val = sm.add_constant(X_val)\n",
    "            y_pred_val = fitted_model.predict(X_val)\n",
    "\n",
    "            val_df = pd.DataFrame(\n",
    "                {\"year\": X_val[\"year\"], \"actual\": y_val, \"prediction\": y_pred_val}\n",
    "            ).sort_values(\"year\")\n",
    "            return val_df\n",
    "\n",
    "\n",
    "        def score_output(val_df):\n",
    "            corr = val_df[\"actual\"].corr(val_df[\"prediction\"])\n",
    "            rmse = ((val_df[\"actual\"] - val_df[\"prediction\"]) ** 2).mean() ** 0.5\n",
    "            return pd.Series([corr, rmse], index=[\"corr\", \"rmse\"])\n",
    "        ```\n",
    "        \"\"\",\n",
    "    ).servable()\n",
    ")"
   ]
  },
  {
   "cell_type": "code",
   "execution_count": 236,
   "metadata": {},
   "outputs": [
    {
     "data": {
      "application/vnd.jupyter.widget-view+json": {
       "model_id": "d83eb966e51d4183ab26fcca3fc05fb4",
       "version_major": 2,
       "version_minor": 0
      },
      "text/plain": [
       "BokehModel(combine_events=True, render_bundle={'docs_json': {'4caa743d-bfb5-40d9-8f54-faf471148fa8': {'version…"
      ]
     },
     "execution_count": 236,
     "metadata": {},
     "output_type": "execute_result"
    }
   ],
   "source": [
    "from sklearn.model_selection import KFold\n",
    "\n",
    "X = ml_feature_df.drop(columns=[\"unique_names\"])\n",
    "y = ml_feature_df[\"unique_names\"]\n",
    "\n",
    "num_folds = 4  # Adjust the number of folds as needed\n",
    "kf = KFold(n_splits=num_folds, shuffle=True, random_state=42)\n",
    "val_dfs = []\n",
    "for i, (train_index, val_index) in enumerate(kf.split(X)):\n",
    "    val_df = run_model(sm.OLS, X, y, train_index, val_index)\n",
    "    val_df[\"fold\"] = i\n",
    "    val_dfs.append(val_df)\n",
    "\n",
    "val_df = pd.concat(val_dfs).sort_values(\"year\")\n",
    "\n",
    "score_df = val_df.groupby(\"fold\").apply(score_output)\n",
    "val_plot = val_df.hvplot(\n",
    "    \"year\", [\"actual\", \"prediction\"], title=\"With Feature Selection\"\n",
    ")\n",
    "\n",
    "\n",
    "slide(\n",
    "    pn.Column(\n",
    "        \"\"\"\n",
    "        # Run linear regression and score\n",
    "\n",
    "        - Split dataset into X (predictors) and Y (goal)\n",
    "        - Run K-Fold for reliability and preventing overfitting\n",
    "\n",
    "        ```python\n",
    "        from sklearn.model_selection import KFold\n",
    "\n",
    "        X = ml_feature_df.drop(columns=[\"unique_names\"])\n",
    "        y = ml_feature_df[\"unique_names\"]\n",
    "\n",
    "        num_folds = 4  # Adjust the number of folds as needed\n",
    "        kf = KFold(n_splits=num_folds, shuffle=True, random_state=42)\n",
    "        val_dfs = []\n",
    "        for i, (train_index, val_index) in enumerate(kf.split(X)):\n",
    "            val_df = run_model(sm.OLS, X, y, train_index, val_index)\n",
    "            val_df[\"fold\"] = i\n",
    "            val_dfs.append(val_df)\n",
    "\n",
    "        val_df = pd.concat(val_dfs).sort_values(\"year\")\n",
    "\n",
    "        score_df = (val_df.groupby(\"fold\").apply(score_output))\n",
    "        val_plot = val_df.hvplot(\"year\", [\"actual\", \"prediction\"])\n",
    "        display(val_plot, score_df)\n",
    "        ```\n",
    "        \"\"\",\n",
    "        pn.Row(\n",
    "            val_plot,\n",
    "            score_df\n",
    "        )\n",
    "    ).servable()\n",
    ")"
   ]
  },
  {
   "cell_type": "code",
   "execution_count": 237,
   "metadata": {},
   "outputs": [
    {
     "data": {
      "application/vnd.jupyter.widget-view+json": {
       "model_id": "da71a13baa9b412ba89042308d569a6e",
       "version_major": 2,
       "version_minor": 0
      },
      "text/plain": [
       "BokehModel(combine_events=True, render_bundle={'docs_json': {'c2d1696f-c3cf-4d67-b763-653849b4111f': {'version…"
      ]
     },
     "execution_count": 237,
     "metadata": {},
     "output_type": "execute_result"
    }
   ],
   "source": [
    "X = ml_month_df.drop(columns=[\"unique_names\"]).select_dtypes(\"number\")\n",
    "y = ml_month_df[\"unique_names\"]\n",
    "\n",
    "num_folds = 4  # Adjust the number of folds as needed\n",
    "kf = KFold(n_splits=num_folds, shuffle=True, random_state=42)\n",
    "val_dfs = []\n",
    "for i, (train_index, val_index) in enumerate(kf.split(X)):\n",
    "    val_df = run_model(sm.OLS, X, y, train_index, val_index)\n",
    "    val_df[\"fold\"] = i\n",
    "    val_dfs.append(val_df)\n",
    "\n",
    "val_df = pd.concat(val_dfs).sort_values(\"year\")\n",
    "\n",
    "new_score_df = val_df.groupby(\"fold\").apply(score_output)\n",
    "new_val_plot = val_df.hvplot(\n",
    "    \"year\", [\"actual\", \"prediction\"], title=\"No Feature Selection\"\n",
    ")\n",
    "\n",
    "\n",
    "slide(\n",
    "    pn.Column(\n",
    "        \"\"\"\n",
    "        ## Re-run and score w/o feature selection\n",
    "\n",
    "        - Other features result in noise\n",
    "        - This lowers the skill score\n",
    "\n",
    "        ```python\n",
    "        X = ml_month_df.drop(columns=[\"unique_names\"]).select_dtypes(\"number\")\n",
    "        y = ml_month_df[\"unique_names\"]\n",
    "\n",
    "        num_folds = 4  # Adjust the number of folds as needed\n",
    "        kf = KFold(n_splits=num_folds, shuffle=True, random_state=42)\n",
    "        val_dfs = []\n",
    "        for i, (train_index, val_index) in enumerate(kf.split(X)):\n",
    "            val_df = run_model(sm.OLS, X, y, train_index, val_index)\n",
    "            val_df[\"fold\"] = i\n",
    "            val_dfs.append(val_df)\n",
    "\n",
    "        val_df = pd.concat(val_dfs).sort_values(\"year\")\n",
    "\n",
    "        score_df = (val_df.groupby(\"fold\").apply(score_output))\n",
    "        val_plot = val_df.hvplot(\"year\", [\"actual\", \"prediction\"])\n",
    "        display(val_plot, score_df)\n",
    "        ```\n",
    "        \"\"\",\n",
    "    ).servable()\n",
    ")"
   ]
  },
  {
   "cell_type": "code",
   "execution_count": 241,
   "metadata": {},
   "outputs": [
    {
     "data": {
      "application/vnd.jupyter.widget-view+json": {
       "model_id": "490ad3c35a9149278387de89053ce753",
       "version_major": 2,
       "version_minor": 0
      },
      "text/plain": [
       "BokehModel(combine_events=True, render_bundle={'docs_json': {'a8c10b16-e037-472f-afa2-52122960d60d': {'version…"
      ]
     },
     "execution_count": 241,
     "metadata": {},
     "output_type": "execute_result"
    }
   ],
   "source": [
    "\n",
    "slide(\n",
    "    pn.Column(\n",
    "        \"\"\"\n",
    "        Compare the two models\n",
    "\n",
    "        - Feature selected model has better scores across the board\n",
    "        - Higher correlation maxes and lower RMSE mins\n",
    "        \"\"\",\n",
    "        pn.Row(\n",
    "            val_plot,\n",
    "            score_df,\n",
    "        ),\n",
    "        pn.Row(\n",
    "            new_val_plot,\n",
    "            new_score_df,\n",
    "        ),\n",
    "    ).servable()\n",
    ")"
   ]
  },
  {
   "cell_type": "code",
   "execution_count": 248,
   "metadata": {},
   "outputs": [
    {
     "data": {
      "application/vnd.jupyter.widget-view+json": {
       "model_id": "c01053e729ff44688bd8ebbf83afdee8",
       "version_major": 2,
       "version_minor": 0
      },
      "text/plain": [
       "BokehModel(combine_events=True, render_bundle={'docs_json': {'1f34d246-e906-4dab-8ed3-d25b2f6c5e41': {'version…"
      ]
     },
     "execution_count": 248,
     "metadata": {},
     "output_type": "execute_result"
    }
   ],
   "source": [
    "slide(\n",
    "    pn.Column(\n",
    "        \"\"\"\n",
    "        ## Ideas for you to try!\n",
    "\n",
    "        - Different models (deep learning?)\n",
    "        - Using other predictors (other oscillations)\n",
    "        - Feature engineering (previous year's count)\n",
    "        - Share your results in community: https://discourse.holoviz.org/\n",
    "        \"\"\",\n",
    "    ).servable()\n",
    ")"
   ]
  },
  {
   "cell_type": "code",
   "execution_count": 253,
   "metadata": {},
   "outputs": [
    {
     "data": {
      "application/vnd.jupyter.widget-view+json": {
       "model_id": "e1443917871a4d37855633aa04ca2d32",
       "version_major": 2,
       "version_minor": 0
      },
      "text/plain": [
       "BokehModel(combine_events=True, render_bundle={'docs_json': {'e5d0035e-ba13-4518-9278-4bc34493423d': {'version…"
      ]
     },
     "execution_count": 253,
     "metadata": {},
     "output_type": "execute_result"
    }
   ],
   "source": [
    "slide(\n",
    "    pn.Column(\n",
    "        \"\"\"\n",
    "        Scan QR code for presentation materials\n",
    "        - Click 'Files' to see source files\n",
    "        - Click 'App' to see the slides\n",
    "        - Keep in touch: ahuang@anaconda.com\n",
    "        \"\"\",\n",
    "        pn.pane.Image(\"qrcode.png\", sizing_mode=\"scale_both\")\n",
    "    ).servable()\n",
    ")\n"
   ]
  }
 ],
 "metadata": {
  "kernelspec": {
   "display_name": "Python 3 (ipykernel)",
   "language": "python",
   "name": "python3"
  },
  "language_info": {
   "codemirror_mode": {
    "name": "ipython",
    "version": 3
   },
   "file_extension": ".py",
   "mimetype": "text/x-python",
   "name": "python",
   "nbconvert_exporter": "python",
   "pygments_lexer": "ipython3",
   "version": "3.10.11"
  }
 },
 "nbformat": 4,
 "nbformat_minor": 2
}
